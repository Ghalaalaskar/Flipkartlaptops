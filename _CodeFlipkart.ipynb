{
 "cells": [
  {
   "cell_type": "markdown",
   "id": "cb9f8983",
   "metadata": {},
   "source": [
    "# Computer in FlipKart"
   ]
  },
  {
   "cell_type": "markdown",
   "id": "a5576a3b",
   "metadata": {},
   "source": [
    "### Import libraries \n",
    "we will import the python libraries that we will use in our project.\n"
   ]
  },
  {
   "cell_type": "code",
   "execution_count": 2,
   "id": "49e1fa63",
   "metadata": {},
   "outputs": [],
   "source": [
    "import urllib.request\n",
    "from bs4 import BeautifulSoup\n",
    "import pandas as pd\n",
    "import numpy as np\n",
    "import matplotlib.pyplot as plt\n",
    "import seaborn as sns\n",
    "sns.set_style('darkgrid')\n",
    "%matplotlib inline\n"
   ]
  },
  {
   "cell_type": "markdown",
   "id": "58709e90",
   "metadata": {},
   "source": [
    "### Initialize lists to store data\n",
    "we will intalize an array for the columns we need for our data."
   ]
  },
  {
   "cell_type": "code",
   "execution_count": 2,
   "id": "dd9d40c5",
   "metadata": {
    "scrolled": true
   },
   "outputs": [],
   "source": [
    "\n",
    "html = []\n",
    "Name = []\n",
    "New_Price = []\n",
    "product_rating = []\n",
    "Processor_OR_Generation = []\n",
    "RAM = []\n",
    "Operating_System = []\n",
    "SSD = []\n",
    "Display = []\n",
    "\n",
    "urls=[\n",
    "    'https://www.flipkart.com/search?q=best+laptops+under+86600&otracker=search&otracker1=search&marketplace=FLIPKART&as-show=on&as=off&page=24'\n",
    "    ,'https://www.flipkart.com/search?q=best+laptops+under+80000&otracker=search&otracker1=search&marketplace=FLIPKART&as-show=on&as=off&page=25'\n",
    "    ,'https://www.flipkart.com/search?q=best+laptops+under+80000&otracker=search&otracker1=search&marketplace=FLIPKART&as-show=on&as=off&page=26'\n",
    "    ,'https://www.flipkart.com/search?q=best+laptops+under+80000&otracker=search&otracker1=search&marketplace=FLIPKART&as-show=on&as=off&page=27'\n",
    "    ,'https://www.flipkart.com/search?q=best+laptops+under+80070&otracker=search&otracker1=search&marketplace=FLIPKART&as-show=on&as=off&page=28'\n",
    "    ,'https://www.flipkart.com/search?q=best+laptops+under+80000&otracker=search&otracker1=search&marketplace=FLIPKART&as-show=on&as=off&page=29'\n",
    "    ,'https://www.flipkart.com/search?q=best+laptops+under+80000&otracker=search&otracker1=search&marketplace=FLIPKART&as-show=on&as=off&page=30'\n",
    "    ,'https://www.flipkart.com/search?q=best+laptops+under+80000&otracker=search&otracker1=search&marketplace=FLIPKART&as-show=on&as=off&page=31'\n",
    "    ,'https://www.flipkart.com/search?q=best+laptops+under+80000&otracker=search&otracker1=search&marketplace=FLIPKART&as-show=on&as=off&page=32'\n",
    "    ,'https://www.flipkart.com/search?q=best+laptops+under+80000&otracker=search&otracker1=search&marketplace=FLIPKART&as-show=on&as=off&page=33'\n",
    "    ,'https://www.flipkart.com/search?q=best+laptops+under+80000&otracker=search&otracker1=search&marketplace=FLIPKART&as-show=on&as=off&page=34'\n",
    "    ,'https://www.flipkart.com/search?q=best+laptops+under+84000&otracker=search&otracker1=search&marketplace=FLIPKART&as-show=on&as=off&page=35'\n",
    "    ,'https://www.flipkart.com/search?q=best+laptops+under+85500&otracker=search&otracker1=search&marketplace=FLIPKART&as-show=on&as=off&page=36'\n",
    "    ,'https://www.flipkart.com/search?q=best+laptops+under+86600&otracker=search&otracker1=search&marketplace=FLIPKART&as-show=on&as=off&page=37'\n",
    "    ,'https://www.flipkart.com/search?q=best+laptops+under+80000&otracker=search&otracker1=search&marketplace=FLIPKART&as-show=on&as=off&page=38'\n",
    "    ,'https://www.flipkart.com/search?q=best+laptops+under+80000&otracker=search&otracker1=search&marketplace=FLIPKART&as-show=on&as=off&page=39'\n",
    "    ,'https://www.flipkart.com/search?q=best+laptops+under+80000&otracker=search&otracker1=search&marketplace=FLIPKART&as-show=on&as=off&page=40'\n",
    "    ,'https://www.flipkart.com/search?q=best+laptops+under+80070&otracker=search&otracker1=search&marketplace=FLIPKART&as-show=on&as=off&page=41'\n",
    "    ,'https://www.flipkart.com/search?q=best+laptops+under+80000&otracker=search&otracker1=search&marketplace=FLIPKART&as-show=on&as=off&page=42'\n",
    "    ,'https://www.flipkart.com/search?q=best+laptops+under+80000&otracker=search&otracker1=search&marketplace=FLIPKART&as-show=on&as=off&page=43'\n",
    "    ,'https://www.flipkart.com/search?q=best+laptops+under+80000&otracker=search&otracker1=search&marketplace=FLIPKART&as-show=on&as=off&page=44'\n",
    "    ,'https://www.flipkart.com/search?q=best+laptops+under+80000&otracker=search&otracker1=search&marketplace=FLIPKART&as-show=on&as=off&page=45'\n",
    "    ,'https://www.flipkart.com/search?q=best+laptops+under+80000&otracker=search&otracker1=search&marketplace=FLIPKART&as-show=on&as=off&page=46'\n",
    "    ,'https://www.flipkart.com/search?q=best+laptops+under+80000&otracker=search&otracker1=search&marketplace=FLIPKART&as-show=on&as=off&page=47'\n",
    "    ,'https://www.flipkart.com/search?q=best+laptops+under+84000&otracker=search&otracker1=search&marketplace=FLIPKART&as-show=on&as=off&page=48'\n",
    "    ,'https://www.flipkart.com/search?q=best+laptops+under+85500&otracker=search&otracker1=search&marketplace=FLIPKART&as-show=on&as=off&page=49'\n",
    "    ,'https://www.flipkart.com/search?q=best+laptops+under+86600&otracker=search&otracker1=search&marketplace=FLIPKART&as-show=on&as=off&page=50'\n",
    "    ,'https://www.flipkart.com/search?q=best+laptops+under+80000&otracker=search&otracker1=search&marketplace=FLIPKART&as-show=on&as=off&page=25'\n",
    "    ,'https://www.flipkart.com/search?q=best+laptops+under+80000&otracker=search&otracker1=search&marketplace=FLIPKART&as-show=on&as=off&page=26'\n",
    "    ,'https://www.flipkart.com/search?q=best+laptops+under+80000&otracker=search&otracker1=search&marketplace=FLIPKART&as-show=on&as=off&page=27'\n",
    "   ]\n",
    "\n",
    "for url in urls:\n",
    "    try:\n",
    "        page = urllib.request.urlopen(url)\n",
    "        page_html = page.read()\n",
    "        page.close()\n",
    "        page_soup = BeautifulSoup(page_html, \"html.parser\")\n",
    "        html.append(page_soup)\n",
    "\n",
    "        containers = page_soup.findAll(\"div\", {\"class\": \"_2kHMtA\"})\n",
    "\n",
    "        for container in containers:\n",
    "            if container.div and container.div.img:\n",
    "                product_name = container.div.img.get(\"alt\", \"N/A\")\n",
    "                Name.append(product_name)\n",
    "            else:\n",
    "                Name.append(\"N/A\")\n",
    "\n",
    "\n",
    "            discounted_price = container.findAll(\"div\", {\"class\": \"_30jeq3 _1_WHN1\"})\n",
    "            New_Price.append(discounted_price[0].text if discounted_price else \"N/A\")\n",
    "\n",
    "            prod_ratings = container.findAll(\"span\", {\"class\": \"_1lRcqv\"})\n",
    "            product_rating.append(prod_ratings[0].text if prod_ratings else \"N/A\")\n",
    "\n",
    "            details = container.findAll(\"li\", {\"class\": \"rgWa7D\"})\n",
    "\n",
    "            for y, detail in enumerate(details):\n",
    "                if y == 0:\n",
    "                    Processor_OR_Generation.append(detail.text)\n",
    "                elif y == 1:\n",
    "                    RAM.append(detail.text)\n",
    "                elif y == 2:\n",
    "                    Operating_System.append(detail.text)\n",
    "                elif y == 3:\n",
    "                    SSD.append(detail.text)\n",
    "                elif y == 4:\n",
    "                    Display.append(detail.text)\n",
    "\n",
    "    except Exception as e:\n",
    "        continue\n",
    "\n",
    "# Create a DataFrame from the scraped data\n",
    "product_table = pd.DataFrame(\n",
    "    {\n",
    "        \"product_name\": Name,\n",
    "        \"new_price\": New_Price,\n",
    "        \"product_rating\": product_rating,\n",
    "        \"Processor_OR_Generation\": Processor_OR_Generation,\n",
    "        \"RAM\": RAM,\n",
    "        \"Operating_System\": Operating_System,\n",
    "        \"SSD\": SSD,\n",
    "        \"Display\": Display\n",
    "    }\n",
    ")\n",
    "\n"
   ]
  },
  {
   "cell_type": "markdown",
   "id": "01e08c88",
   "metadata": {},
   "source": [
    "### Save the DataFrame to a CSV file and print it\n"
   ]
  },
  {
   "cell_type": "code",
   "execution_count": 3,
   "id": "0b871dc1",
   "metadata": {},
   "outputs": [
    {
     "name": "stdout",
     "output_type": "stream",
     "text": [
      "Data saved to product_data.csv\n",
      "                                          product_name new_price  \\\n",
      "0    Acer Extensa (2023) AMD Ryzen 5 Quad Core 7520...   ₹31,990   \n",
      "1    ZEBRONICS Pro Series Y Intel Core i5 11th Gen ...   ₹27,990   \n",
      "2    Infinix INBook X2 Plus Intel Core i3 11th Gen ...   ₹25,990   \n",
      "3    Lenovo LOQ Intel Core i5 12th Gen 12450H - (16...   ₹90,990   \n",
      "4    Infinix Inbook Y1 Plus Intel Core i5 10th Gen ...   ₹25,990   \n",
      "..                                                 ...       ...   \n",
      "235  ASUS TUF Gaming F15 - AI Powered Gaming Intel ...   ₹56,004   \n",
      "236  Infinix X2 Slim Intel Core i5 11th Gen 1155G7 ...   ₹34,990   \n",
      "237  Infinix ZEROBOOK 13 Intel Intel Core i5 13th G...   ₹49,990   \n",
      "238  HP Intel Core i5 12th Gen 1235U - (16 GB/512 G...   ₹54,990   \n",
      "239  MSI GF63 Intel Core i5 11th Gen 11260H - (8 GB...   ₹41,990   \n",
      "\n",
      "    product_rating                   Processor_OR_Generation  \\\n",
      "0              4.1  Stylish & Portable Thin and Light Laptop   \n",
      "1                4        Intel Core i5 Processor (11th Gen)   \n",
      "2              4.2        Intel Core i3 Processor (11th Gen)   \n",
      "3              4.5        Intel Core i5 Processor (12th Gen)   \n",
      "4              4.4        Intel Core i5 Processor (10th Gen)   \n",
      "..             ...                                       ...   \n",
      "235            3.7        Intel Core i5 Processor (11th Gen)   \n",
      "236            4.1        Intel Core i5 Processor (11th Gen)   \n",
      "237            4.1        Intel Core i5 Processor (13th Gen)   \n",
      "238            4.2        Intel Core i5 Processor (12th Gen)   \n",
      "239            4.2        Intel Core i5 Processor (11th Gen)   \n",
      "\n",
      "                                          RAM  \\\n",
      "0    LPDDR5 RAM -faster & low power consuming   \n",
      "1                           16 GB LPDDR4X RAM   \n",
      "2                            8 GB LPDDR4X RAM   \n",
      "3                              16 GB DDR5 RAM   \n",
      "4                            8 GB LPDDR4X RAM   \n",
      "..                                        ...   \n",
      "235                             8 GB DDR4 RAM   \n",
      "236                         16 GB LPDDR4X RAM   \n",
      "237                         16 GB LPDDR5X RAM   \n",
      "238                            16 GB DDR4 RAM   \n",
      "239                             8 GB DDR4 RAM   \n",
      "\n",
      "                                      Operating_System  \\\n",
      "0    Firmware TPM (Trusted Platform Module)-Improve...   \n",
      "1                   64 bit Windows 11 Operating System   \n",
      "2                   64 bit Windows 11 Operating System   \n",
      "3                          Windows 11 Operating System   \n",
      "4                          Windows 11 Operating System   \n",
      "..                                                 ...   \n",
      "235                        Windows 11 Operating System   \n",
      "236                 64 bit Windows 11 Operating System   \n",
      "237                        Windows 11 Operating System   \n",
      "238                        Windows 11 Operating System   \n",
      "239                        Windows 11 Operating System   \n",
      "\n",
      "                                           SSD                       Display  \n",
      "0    FHD 1080p screen with 250 Nits brightness                 Latest WiFi 6  \n",
      "1                                   512 GB SSD  39.62 cm (15.6 inch) Display  \n",
      "2                                   256 GB SSD  39.62 cm (15.6 Inch) Display  \n",
      "3                                   512 GB SSD  39.62 cm (15.6 inch) Display  \n",
      "4                                   512 GB SSD  39.62 cm (15.6 inch) Display  \n",
      "..                                         ...                           ...  \n",
      "235                                   1 TB SSD  39.62 cm (15.6 Inch) Display  \n",
      "236                                 512 GB SSD    35.56 cm (14 inch) Display  \n",
      "237                                 512 GB SSD  39.62 cm (15.6 inch) Display  \n",
      "238                                 512 GB SSD  39.62 cm (15.6 inch) Display  \n",
      "239                                 512 GB SSD  39.62 cm (15.6 Inch) Display  \n",
      "\n",
      "[240 rows x 8 columns]\n"
     ]
    }
   ],
   "source": [
    "product_table.to_csv(\"product_data.csv\", index=False)\n",
    "print(\"Data saved to product_data.csv\")\n",
    "product_Df = pd.DataFrame(data = product_table)\n",
    "print(product_table)"
   ]
  },
  {
   "cell_type": "markdown",
   "id": "b50187ee",
   "metadata": {},
   "source": [
    "### Find the raw data file"
   ]
  },
  {
   "cell_type": "code",
   "execution_count": 4,
   "id": "0aef4ec6",
   "metadata": {},
   "outputs": [
    {
     "name": "stdout",
     "output_type": "stream",
     "text": [
      "HTML content written to product_html.txt\n"
     ]
    }
   ],
   "source": [
    "# Open a text file in write mode to save HTML content\n",
    "with open(\"product_html.txt\", \"w\", encoding=\"utf-8\") as file:\n",
    "# Write each page's HTML content to the file\n",
    "    for page_soup in html:\n",
    "        file.write(str(page_soup))\n",
    "print(\"HTML content written to product_html.txt\")"
   ]
  },
  {
   "cell_type": "markdown",
   "id": "53c3e29a",
   "metadata": {},
   "source": [
    "### Reading a csv file"
   ]
  },
  {
   "cell_type": "markdown",
   "id": "1333b07b",
   "metadata": {},
   "source": [
    "we read the csv file so we can deal with the data and clean it by applying several python codes."
   ]
  },
  {
   "cell_type": "code",
   "execution_count": 30,
   "id": "30fd8a3e",
   "metadata": {},
   "outputs": [
    {
     "data": {
      "text/html": [
       "<div>\n",
       "<style scoped>\n",
       "    .dataframe tbody tr th:only-of-type {\n",
       "        vertical-align: middle;\n",
       "    }\n",
       "\n",
       "    .dataframe tbody tr th {\n",
       "        vertical-align: top;\n",
       "    }\n",
       "\n",
       "    .dataframe thead th {\n",
       "        text-align: right;\n",
       "    }\n",
       "</style>\n",
       "<table border=\"1\" class=\"dataframe\">\n",
       "  <thead>\n",
       "    <tr style=\"text-align: right;\">\n",
       "      <th></th>\n",
       "      <th>product_name</th>\n",
       "      <th>new_price</th>\n",
       "      <th>product_rating</th>\n",
       "      <th>Processor_OR_Generation</th>\n",
       "      <th>RAM(GB)</th>\n",
       "      <th>Operating_System</th>\n",
       "      <th>SSD(GB)</th>\n",
       "      <th>Display(cm)</th>\n",
       "    </tr>\n",
       "  </thead>\n",
       "  <tbody>\n",
       "    <tr>\n",
       "      <th>0</th>\n",
       "      <td>ZEBRONICS Pro Series Y Intel Core i5 11th Gen ...</td>\n",
       "      <td>₹27,990</td>\n",
       "      <td>4.0</td>\n",
       "      <td>Intel Core i5 Processor (11th Gen)</td>\n",
       "      <td>16 GB LPDDR4X RAM</td>\n",
       "      <td>64 bit Windows 11 Operating System</td>\n",
       "      <td>512 GB SSD</td>\n",
       "      <td>39.62 cm (15.6 inch) Display</td>\n",
       "    </tr>\n",
       "    <tr>\n",
       "      <th>1</th>\n",
       "      <td>Infinix INBook X2 Plus Intel Core i3 11th Gen ...</td>\n",
       "      <td>₹25,990</td>\n",
       "      <td>4.2</td>\n",
       "      <td>Intel Core i3 Processor (11th Gen)</td>\n",
       "      <td>8 GB LPDDR4X RAM</td>\n",
       "      <td>64 bit Windows 11 Operating System</td>\n",
       "      <td>256 GB SSD</td>\n",
       "      <td>39.62 cm (15.6 Inch) Display</td>\n",
       "    </tr>\n",
       "    <tr>\n",
       "      <th>2</th>\n",
       "      <td>Lenovo LOQ Intel Core i5 12th Gen 12450H - (16...</td>\n",
       "      <td>₹90,990</td>\n",
       "      <td>4.5</td>\n",
       "      <td>Intel Core i5 Processor (12th Gen)</td>\n",
       "      <td>16 GB DDR5 RAM</td>\n",
       "      <td>Windows 11 Operating System</td>\n",
       "      <td>512 GB SSD</td>\n",
       "      <td>39.62 cm (15.6 inch) Display</td>\n",
       "    </tr>\n",
       "    <tr>\n",
       "      <th>3</th>\n",
       "      <td>Infinix Inbook Y1 Plus Intel Core i5 10th Gen ...</td>\n",
       "      <td>₹25,990</td>\n",
       "      <td>4.4</td>\n",
       "      <td>Intel Core i5 Processor (10th Gen)</td>\n",
       "      <td>8 GB LPDDR4X RAM</td>\n",
       "      <td>Windows 11 Operating System</td>\n",
       "      <td>512 GB SSD</td>\n",
       "      <td>39.62 cm (15.6 inch) Display</td>\n",
       "    </tr>\n",
       "    <tr>\n",
       "      <th>4</th>\n",
       "      <td>ASUS TUF Gaming F15 - AI Powered Gaming Intel ...</td>\n",
       "      <td>₹48,990</td>\n",
       "      <td>4.3</td>\n",
       "      <td>Intel Core i5 Processor (11th Gen)</td>\n",
       "      <td>8 GB DDR4 RAM</td>\n",
       "      <td>Windows 11 Operating System</td>\n",
       "      <td>512 GB SSD</td>\n",
       "      <td>39.62 cm (15.6 Inch) Display</td>\n",
       "    </tr>\n",
       "    <tr>\n",
       "      <th>...</th>\n",
       "      <td>...</td>\n",
       "      <td>...</td>\n",
       "      <td>...</td>\n",
       "      <td>...</td>\n",
       "      <td>...</td>\n",
       "      <td>...</td>\n",
       "      <td>...</td>\n",
       "      <td>...</td>\n",
       "    </tr>\n",
       "    <tr>\n",
       "      <th>226</th>\n",
       "      <td>ASUS TUF Gaming F15 - AI Powered Gaming Intel ...</td>\n",
       "      <td>₹56,004</td>\n",
       "      <td>3.7</td>\n",
       "      <td>Intel Core i5 Processor (11th Gen)</td>\n",
       "      <td>8 GB DDR4 RAM</td>\n",
       "      <td>Windows 11 Operating System</td>\n",
       "      <td>1 TB SSD</td>\n",
       "      <td>39.62 cm (15.6 Inch) Display</td>\n",
       "    </tr>\n",
       "    <tr>\n",
       "      <th>227</th>\n",
       "      <td>Infinix X2 Slim Intel Core i5 11th Gen 1155G7 ...</td>\n",
       "      <td>₹34,990</td>\n",
       "      <td>4.1</td>\n",
       "      <td>Intel Core i5 Processor (11th Gen)</td>\n",
       "      <td>16 GB LPDDR4X RAM</td>\n",
       "      <td>64 bit Windows 11 Operating System</td>\n",
       "      <td>512 GB SSD</td>\n",
       "      <td>35.56 cm (14 inch) Display</td>\n",
       "    </tr>\n",
       "    <tr>\n",
       "      <th>228</th>\n",
       "      <td>Infinix ZEROBOOK 13 Intel Intel Core i5 13th G...</td>\n",
       "      <td>₹49,990</td>\n",
       "      <td>4.1</td>\n",
       "      <td>Intel Core i5 Processor (13th Gen)</td>\n",
       "      <td>16 GB LPDDR5X RAM</td>\n",
       "      <td>Windows 11 Operating System</td>\n",
       "      <td>512 GB SSD</td>\n",
       "      <td>39.62 cm (15.6 inch) Display</td>\n",
       "    </tr>\n",
       "    <tr>\n",
       "      <th>229</th>\n",
       "      <td>HP Intel Core i5 12th Gen 1235U - (16 GB/512 G...</td>\n",
       "      <td>₹54,990</td>\n",
       "      <td>4.2</td>\n",
       "      <td>Intel Core i5 Processor (12th Gen)</td>\n",
       "      <td>16 GB DDR4 RAM</td>\n",
       "      <td>Windows 11 Operating System</td>\n",
       "      <td>512 GB SSD</td>\n",
       "      <td>39.62 cm (15.6 inch) Display</td>\n",
       "    </tr>\n",
       "    <tr>\n",
       "      <th>230</th>\n",
       "      <td>MSI GF63 Intel Core i5 11th Gen 11260H - (8 GB...</td>\n",
       "      <td>₹41,990</td>\n",
       "      <td>4.2</td>\n",
       "      <td>Intel Core i5 Processor (11th Gen)</td>\n",
       "      <td>8 GB DDR4 RAM</td>\n",
       "      <td>Windows 11 Operating System</td>\n",
       "      <td>512 GB SSD</td>\n",
       "      <td>39.62 cm (15.6 Inch) Display</td>\n",
       "    </tr>\n",
       "  </tbody>\n",
       "</table>\n",
       "<p>231 rows × 8 columns</p>\n",
       "</div>"
      ],
      "text/plain": [
       "                                          product_name new_price  \\\n",
       "0    ZEBRONICS Pro Series Y Intel Core i5 11th Gen ...   ₹27,990   \n",
       "1    Infinix INBook X2 Plus Intel Core i3 11th Gen ...   ₹25,990   \n",
       "2    Lenovo LOQ Intel Core i5 12th Gen 12450H - (16...   ₹90,990   \n",
       "3    Infinix Inbook Y1 Plus Intel Core i5 10th Gen ...   ₹25,990   \n",
       "4    ASUS TUF Gaming F15 - AI Powered Gaming Intel ...   ₹48,990   \n",
       "..                                                 ...       ...   \n",
       "226  ASUS TUF Gaming F15 - AI Powered Gaming Intel ...   ₹56,004   \n",
       "227  Infinix X2 Slim Intel Core i5 11th Gen 1155G7 ...   ₹34,990   \n",
       "228  Infinix ZEROBOOK 13 Intel Intel Core i5 13th G...   ₹49,990   \n",
       "229  HP Intel Core i5 12th Gen 1235U - (16 GB/512 G...   ₹54,990   \n",
       "230  MSI GF63 Intel Core i5 11th Gen 11260H - (8 GB...   ₹41,990   \n",
       "\n",
       "     product_rating             Processor_OR_Generation            RAM(GB)  \\\n",
       "0               4.0  Intel Core i5 Processor (11th Gen)  16 GB LPDDR4X RAM   \n",
       "1               4.2  Intel Core i3 Processor (11th Gen)   8 GB LPDDR4X RAM   \n",
       "2               4.5  Intel Core i5 Processor (12th Gen)     16 GB DDR5 RAM   \n",
       "3               4.4  Intel Core i5 Processor (10th Gen)   8 GB LPDDR4X RAM   \n",
       "4               4.3  Intel Core i5 Processor (11th Gen)      8 GB DDR4 RAM   \n",
       "..              ...                                 ...                ...   \n",
       "226             3.7  Intel Core i5 Processor (11th Gen)      8 GB DDR4 RAM   \n",
       "227             4.1  Intel Core i5 Processor (11th Gen)  16 GB LPDDR4X RAM   \n",
       "228             4.1  Intel Core i5 Processor (13th Gen)  16 GB LPDDR5X RAM   \n",
       "229             4.2  Intel Core i5 Processor (12th Gen)     16 GB DDR4 RAM   \n",
       "230             4.2  Intel Core i5 Processor (11th Gen)      8 GB DDR4 RAM   \n",
       "\n",
       "                       Operating_System     SSD(GB)  \\\n",
       "0    64 bit Windows 11 Operating System  512 GB SSD   \n",
       "1    64 bit Windows 11 Operating System  256 GB SSD   \n",
       "2           Windows 11 Operating System  512 GB SSD   \n",
       "3           Windows 11 Operating System  512 GB SSD   \n",
       "4           Windows 11 Operating System  512 GB SSD   \n",
       "..                                  ...         ...   \n",
       "226         Windows 11 Operating System    1 TB SSD   \n",
       "227  64 bit Windows 11 Operating System  512 GB SSD   \n",
       "228         Windows 11 Operating System  512 GB SSD   \n",
       "229         Windows 11 Operating System  512 GB SSD   \n",
       "230         Windows 11 Operating System  512 GB SSD   \n",
       "\n",
       "                      Display(cm)  \n",
       "0    39.62 cm (15.6 inch) Display  \n",
       "1    39.62 cm (15.6 Inch) Display  \n",
       "2    39.62 cm (15.6 inch) Display  \n",
       "3    39.62 cm (15.6 inch) Display  \n",
       "4    39.62 cm (15.6 Inch) Display  \n",
       "..                            ...  \n",
       "226  39.62 cm (15.6 Inch) Display  \n",
       "227    35.56 cm (14 inch) Display  \n",
       "228  39.62 cm (15.6 inch) Display  \n",
       "229  39.62 cm (15.6 inch) Display  \n",
       "230  39.62 cm (15.6 Inch) Display  \n",
       "\n",
       "[231 rows x 8 columns]"
      ]
     },
     "execution_count": 30,
     "metadata": {},
     "output_type": "execute_result"
    }
   ],
   "source": [
    "new_df = pd.read_csv(\"product_data.csv\", names =[\"product_name\",\"new_price\",\"product_rating\",\"Processor_OR_Generation\", \"RAM(GB)\"\n",
    ",\"Operating_System\",\"SSD(GB)\",\"Display(cm)\"] ,header=None)\n",
    "new_df"
   ]
  },
  {
   "cell_type": "markdown",
   "id": "8b79d178",
   "metadata": {},
   "source": [
    "## Data overview "
   ]
  },
  {
   "cell_type": "markdown",
   "id": "d2da7efd",
   "metadata": {},
   "source": [
    "In this section, our objective is to gain insights into our dataset by finding the number of columns and rows ."
   ]
  },
  {
   "cell_type": "code",
   "execution_count": 14,
   "id": "a9cf8dcb",
   "metadata": {},
   "outputs": [
    {
     "data": {
      "text/plain": [
       "(231, 8)"
      ]
     },
     "execution_count": 14,
     "metadata": {},
     "output_type": "execute_result"
    }
   ],
   "source": [
    "new_df.shape"
   ]
  },
  {
   "cell_type": "markdown",
   "id": "0aaa954d",
   "metadata": {},
   "source": [
    "the above result indicate that our data contains 231 rows where each row has different type of computer. Also it contains 8 coloumns where each coloumn show an attribute."
   ]
  },
  {
   "cell_type": "markdown",
   "id": "fb317517",
   "metadata": {},
   "source": [
    "## Data Cleaning "
   ]
  },
  {
   "cell_type": "markdown",
   "id": "26a941f5",
   "metadata": {},
   "source": [
    "Our goal in the data cleaning section is to improve the quality of the data by fixing errors, missing numbers, and inconsistencies. This involves tasks such as removing duplicates, and imputing missing data to ensure accuracy for subsequent analysis. The objective is to get a clean and reliable dataset for further exploration and modeling efforts."
   ]
  },
  {
   "cell_type": "markdown",
   "id": "655a0b36",
   "metadata": {},
   "source": [
    "### Checking nulls"
   ]
  },
  {
   "cell_type": "code",
   "execution_count": 7,
   "id": "b18e5031",
   "metadata": {},
   "outputs": [
    {
     "data": {
      "text/plain": [
       "product_name                0\n",
       "new_price                   0\n",
       "product_rating             20\n",
       "Processor_OR_Generation     0\n",
       "RAM                         0\n",
       "Operating_System            0\n",
       "SSD                         0\n",
       "Display                     0\n",
       "dtype: int64"
      ]
     },
     "execution_count": 7,
     "metadata": {},
     "output_type": "execute_result"
    }
   ],
   "source": [
    "new_df.replace('NaN',0)\n",
    "new_df.isnull().sum()"
   ]
  },
  {
   "cell_type": "markdown",
   "id": "2c3a7edb",
   "metadata": {},
   "source": [
    "we found that product_rating has 20 null cells so, we will fill it manually based on users reviwes."
   ]
  },
  {
   "cell_type": "markdown",
   "id": "e8420796",
   "metadata": {},
   "source": [
    "### saving the data in new data frame without null"
   ]
  },
  {
   "cell_type": "code",
   "execution_count": 72,
   "id": "440c8913",
   "metadata": {},
   "outputs": [
    {
     "data": {
      "text/plain": [
       "product_name               0\n",
       "new_price                  0\n",
       "product_rating             0\n",
       "Processor_OR_Generation    0\n",
       "RAM(GB)                    0\n",
       "Operating_System           0\n",
       "SSD(GB)                    0\n",
       "Display(cm)                0\n",
       "dtype: int64"
      ]
     },
     "execution_count": 72,
     "metadata": {},
     "output_type": "execute_result"
    }
   ],
   "source": [
    "n_df =pd.read_csv(\"product_data.csv\", names =[\"product_name\",\"new_price\",\"product_rating\",\"Processor_OR_Generation\",\"RAM(GB)\"\n",
    ",\"Operating_System\",\"SSD(GB)\",\"Display(cm)\"] ,header=None)\n",
    "n_df.isnull().sum()"
   ]
  },
  {
   "cell_type": "markdown",
   "id": "2cf5f2ac",
   "metadata": {},
   "source": [
    "results shows that there's no more nulls."
   ]
  },
  {
   "cell_type": "markdown",
   "id": "76ae1784",
   "metadata": {},
   "source": [
    "### Find general information about our data coloumns"
   ]
  },
  {
   "cell_type": "code",
   "execution_count": 34,
   "id": "f87c2111",
   "metadata": {},
   "outputs": [
    {
     "name": "stdout",
     "output_type": "stream",
     "text": [
      "<class 'pandas.core.frame.DataFrame'>\n",
      "RangeIndex: 231 entries, 0 to 230\n",
      "Data columns (total 8 columns):\n",
      " #   Column                   Non-Null Count  Dtype  \n",
      "---  ------                   --------------  -----  \n",
      " 0   product_name             231 non-null    object \n",
      " 1   new_price                231 non-null    object \n",
      " 2   product_rating           231 non-null    float64\n",
      " 3   Processor_OR_Generation  231 non-null    object \n",
      " 4   RAM(GB)                  231 non-null    object \n",
      " 5   Operating_System         231 non-null    object \n",
      " 6   SSD(GB)                  231 non-null    object \n",
      " 7   Display(cm)              231 non-null    object \n",
      "dtypes: float64(1), object(7)\n",
      "memory usage: 14.6+ KB\n",
      "None\n"
     ]
    }
   ],
   "source": [
    "print(n_df.info())"
   ]
  },
  {
   "cell_type": "markdown",
   "id": "155fd24a",
   "metadata": {},
   "source": [
    "Our data consists of 8 columns which provide information about the product computers. All the 8 columns are object type. The product_name column indicates information about the name of the computer. The new_price column gives us information about the computer price. The product_rating column gives us information about how people rate the computer when they buy it. The Processor_OR_Generation column indicates information about the computer processor or the computer generation. The RAM column refers to the amount of Random Access Memory (RAM) available in a computer. The Operating_System column refers to the OS used in the computer like Windows, macOS .......The SSD column refers to SSD bytes used in the computer. The Display column refers to the screen size of the computer. \n",
    "\n",
    "These columns contain helpful information for understanding and assessing computer information."
   ]
  },
  {
   "cell_type": "markdown",
   "id": "3c017fb8",
   "metadata": {},
   "source": [
    "### Showing duplicated rows\n"
   ]
  },
  {
   "cell_type": "code",
   "execution_count": 11,
   "id": "3a217417",
   "metadata": {},
   "outputs": [
    {
     "data": {
      "text/plain": [
       "95"
      ]
     },
     "execution_count": 11,
     "metadata": {},
     "output_type": "execute_result"
    }
   ],
   "source": [
    "sum(n_df.duplicated())"
   ]
  },
  {
   "cell_type": "markdown",
   "id": "2601dd1d",
   "metadata": {},
   "source": [
    "from the above results we notice that there's 95 duplicated rows so, we will solve this problem by keeping the first occurence of each row by the below python code"
   ]
  },
  {
   "cell_type": "code",
   "execution_count": 12,
   "id": "0971744a",
   "metadata": {},
   "outputs": [
    {
     "data": {
      "text/plain": [
       "0"
      ]
     },
     "execution_count": 12,
     "metadata": {},
     "output_type": "execute_result"
    }
   ],
   "source": [
    "n_df.drop_duplicates(keep='first', inplace=True)\n",
    "sum(n_df.duplicated())"
   ]
  },
  {
   "cell_type": "markdown",
   "id": "9791694c",
   "metadata": {},
   "source": [
    "we drop the duplicated rows succesfully."
   ]
  },
  {
   "cell_type": "markdown",
   "id": "f8455172",
   "metadata": {},
   "source": [
    "## Transofrm the data into float"
   ]
  },
  {
   "cell_type": "markdown",
   "id": "f8411e9e",
   "metadata": {},
   "source": [
    "We transform the product_rating and new_price columns from object type into float type because we will need them as a float to make preprocessing techniques on them."
   ]
  },
  {
   "cell_type": "markdown",
   "id": "822149c1",
   "metadata": {},
   "source": [
    "##### For new_price coloumn"
   ]
  },
  {
   "cell_type": "code",
   "execution_count": 66,
   "id": "534cde7e",
   "metadata": {},
   "outputs": [
    {
     "name": "stdout",
     "output_type": "stream",
     "text": [
      "0      27990.0\n",
      "1      25990.0\n",
      "2      90990.0\n",
      "3      25990.0\n",
      "4      48990.0\n",
      "        ...   \n",
      "226    56004.0\n",
      "227    34990.0\n",
      "228    49990.0\n",
      "229    54990.0\n",
      "230    41990.0\n",
      "Name: new_price, Length: 231, dtype: float64\n"
     ]
    }
   ],
   "source": [
    "n_df['new_price'] = n_df['new_price'].replace('\\₹', '', regex=True)\n",
    "n_df['new_price'] = n_df['new_price'].replace('\\,', '', regex=True)\n",
    "n_df['new_price'] = pd.to_numeric(n_df['new_price'], errors='coerce')\n",
    "n_df['new_price'] = n_df['new_price'].astype(float)\n",
    "print(n_df['new_price'])"
   ]
  },
  {
   "cell_type": "markdown",
   "id": "3673d734",
   "metadata": {},
   "source": [
    "##### For product_rating coloumn"
   ]
  },
  {
   "cell_type": "code",
   "execution_count": 17,
   "id": "01028909",
   "metadata": {},
   "outputs": [
    {
     "name": "stdout",
     "output_type": "stream",
     "text": [
      "0      NaN\n",
      "1      4.0\n",
      "2      4.2\n",
      "3      4.5\n",
      "4      4.4\n",
      "      ... \n",
      "214    4.4\n",
      "216    3.4\n",
      "217    3.8\n",
      "218    4.6\n",
      "223    4.3\n",
      "Name: product_rating, Length: 137, dtype: float64\n"
     ]
    }
   ],
   "source": [
    "n_df['product_rating'] = pd.to_numeric(n_df['product_rating'], errors='coerce')\n",
    "\n",
    "# Convert the column from object to float\n",
    "n_df['product_rating'] = n_df['product_rating'].astype(float)\n",
    "print(n_df['product_rating'])"
   ]
  },
  {
   "cell_type": "markdown",
   "id": "07cf36c0",
   "metadata": {},
   "source": [
    "##### For RAM(GB) coloumn"
   ]
  },
  {
   "cell_type": "code",
   "execution_count": 74,
   "id": "66310549",
   "metadata": {},
   "outputs": [
    {
     "data": {
      "text/plain": [
       "0      16.0\n",
       "1       8.0\n",
       "2      16.0\n",
       "3       8.0\n",
       "4       8.0\n",
       "       ... \n",
       "226     8.0\n",
       "227    16.0\n",
       "228    16.0\n",
       "229    16.0\n",
       "230     8.0\n",
       "Name: RAM(GB), Length: 231, dtype: float64"
      ]
     },
     "execution_count": 74,
     "metadata": {},
     "output_type": "execute_result"
    }
   ],
   "source": [
    "n_df['RAM(GB)'] = n_df['RAM(GB)'].str.split().str[0]\n",
    "n_df['RAM(GB)'] = n_df['RAM(GB)'].astype(float)\n",
    "n_df['RAM(GB)']"
   ]
  },
  {
   "cell_type": "markdown",
   "id": "7412521c",
   "metadata": {},
   "source": [
    "##### For SSD(GB) coloumn"
   ]
  },
  {
   "cell_type": "code",
   "execution_count": 75,
   "id": "ff6fecc2",
   "metadata": {},
   "outputs": [
    {
     "data": {
      "text/plain": [
       "0       512.0\n",
       "1       256.0\n",
       "2       512.0\n",
       "3       512.0\n",
       "4       512.0\n",
       "        ...  \n",
       "226    1000.0\n",
       "227     512.0\n",
       "228     512.0\n",
       "229     512.0\n",
       "230     512.0\n",
       "Name: SSD(GB), Length: 231, dtype: float64"
      ]
     },
     "execution_count": 75,
     "metadata": {},
     "output_type": "execute_result"
    }
   ],
   "source": [
    "n_df['SSD(GB)'] = n_df['SSD(GB)'].str.split().str[0]\n",
    "n_df.loc[n_df['SSD(GB)'] == '1', 'SSD(GB)'] = '1000'\n",
    "n_df['SSD(GB)'] = n_df['SSD(GB)'].astype(float)\n",
    "n_df['SSD(GB)']"
   ]
  },
  {
   "cell_type": "markdown",
   "id": "76995495",
   "metadata": {},
   "source": [
    "##### For Display coloumn"
   ]
  },
  {
   "cell_type": "code",
   "execution_count": 76,
   "id": "2cf0783d",
   "metadata": {},
   "outputs": [
    {
     "data": {
      "text/plain": [
       "0      39.62\n",
       "1      39.62\n",
       "2      39.62\n",
       "3      39.62\n",
       "4      39.62\n",
       "       ...  \n",
       "226    39.62\n",
       "227    35.56\n",
       "228    39.62\n",
       "229    39.62\n",
       "230    39.62\n",
       "Name: Display(cm), Length: 231, dtype: float64"
      ]
     },
     "execution_count": 76,
     "metadata": {},
     "output_type": "execute_result"
    }
   ],
   "source": [
    "n_df['Display(cm)'] = n_df['Display(cm)'].str.split().str[0]\n",
    "n_df.loc[n_df['SSD(GB)'] == '1', 'Display(cm)'] = '1000'\n",
    "n_df['Display(cm)'] = n_df['Display(cm)'].astype(float)\n",
    "n_df['Display(cm)']"
   ]
  },
  {
   "cell_type": "code",
   "execution_count": 70,
   "id": "2696c6bc",
   "metadata": {},
   "outputs": [
    {
     "data": {
      "text/html": [
       "<div>\n",
       "<style scoped>\n",
       "    .dataframe tbody tr th:only-of-type {\n",
       "        vertical-align: middle;\n",
       "    }\n",
       "\n",
       "    .dataframe tbody tr th {\n",
       "        vertical-align: top;\n",
       "    }\n",
       "\n",
       "    .dataframe thead th {\n",
       "        text-align: right;\n",
       "    }\n",
       "</style>\n",
       "<table border=\"1\" class=\"dataframe\">\n",
       "  <thead>\n",
       "    <tr style=\"text-align: right;\">\n",
       "      <th></th>\n",
       "      <th>product_name</th>\n",
       "      <th>new_price</th>\n",
       "      <th>product_rating</th>\n",
       "      <th>Processor_OR_Generation</th>\n",
       "      <th>RAM(GB)</th>\n",
       "      <th>Operating_System</th>\n",
       "      <th>SSD(GB)</th>\n",
       "      <th>Display(cm)</th>\n",
       "    </tr>\n",
       "  </thead>\n",
       "  <tbody>\n",
       "    <tr>\n",
       "      <th>0</th>\n",
       "      <td>ZEBRONICS Pro Series Y Intel Core i5 11th Gen ...</td>\n",
       "      <td>27990.0</td>\n",
       "      <td>4.0</td>\n",
       "      <td>Intel Core i5 Processor (11th Gen)</td>\n",
       "      <td>16.0</td>\n",
       "      <td>64 bit Windows 11 Operating System</td>\n",
       "      <td>512.0</td>\n",
       "      <td>39.62</td>\n",
       "    </tr>\n",
       "    <tr>\n",
       "      <th>1</th>\n",
       "      <td>Infinix INBook X2 Plus Intel Core i3 11th Gen ...</td>\n",
       "      <td>25990.0</td>\n",
       "      <td>4.2</td>\n",
       "      <td>Intel Core i3 Processor (11th Gen)</td>\n",
       "      <td>8.0</td>\n",
       "      <td>64 bit Windows 11 Operating System</td>\n",
       "      <td>256.0</td>\n",
       "      <td>39.62</td>\n",
       "    </tr>\n",
       "    <tr>\n",
       "      <th>2</th>\n",
       "      <td>Lenovo LOQ Intel Core i5 12th Gen 12450H - (16...</td>\n",
       "      <td>90990.0</td>\n",
       "      <td>4.5</td>\n",
       "      <td>Intel Core i5 Processor (12th Gen)</td>\n",
       "      <td>16.0</td>\n",
       "      <td>Windows 11 Operating System</td>\n",
       "      <td>512.0</td>\n",
       "      <td>39.62</td>\n",
       "    </tr>\n",
       "    <tr>\n",
       "      <th>3</th>\n",
       "      <td>Infinix Inbook Y1 Plus Intel Core i5 10th Gen ...</td>\n",
       "      <td>25990.0</td>\n",
       "      <td>4.4</td>\n",
       "      <td>Intel Core i5 Processor (10th Gen)</td>\n",
       "      <td>8.0</td>\n",
       "      <td>Windows 11 Operating System</td>\n",
       "      <td>512.0</td>\n",
       "      <td>39.62</td>\n",
       "    </tr>\n",
       "    <tr>\n",
       "      <th>4</th>\n",
       "      <td>ASUS TUF Gaming F15 - AI Powered Gaming Intel ...</td>\n",
       "      <td>48990.0</td>\n",
       "      <td>4.3</td>\n",
       "      <td>Intel Core i5 Processor (11th Gen)</td>\n",
       "      <td>8.0</td>\n",
       "      <td>Windows 11 Operating System</td>\n",
       "      <td>512.0</td>\n",
       "      <td>39.62</td>\n",
       "    </tr>\n",
       "    <tr>\n",
       "      <th>...</th>\n",
       "      <td>...</td>\n",
       "      <td>...</td>\n",
       "      <td>...</td>\n",
       "      <td>...</td>\n",
       "      <td>...</td>\n",
       "      <td>...</td>\n",
       "      <td>...</td>\n",
       "      <td>...</td>\n",
       "    </tr>\n",
       "    <tr>\n",
       "      <th>226</th>\n",
       "      <td>ASUS TUF Gaming F15 - AI Powered Gaming Intel ...</td>\n",
       "      <td>56004.0</td>\n",
       "      <td>3.7</td>\n",
       "      <td>Intel Core i5 Processor (11th Gen)</td>\n",
       "      <td>8.0</td>\n",
       "      <td>Windows 11 Operating System</td>\n",
       "      <td>1000.0</td>\n",
       "      <td>39.62</td>\n",
       "    </tr>\n",
       "    <tr>\n",
       "      <th>227</th>\n",
       "      <td>Infinix X2 Slim Intel Core i5 11th Gen 1155G7 ...</td>\n",
       "      <td>34990.0</td>\n",
       "      <td>4.1</td>\n",
       "      <td>Intel Core i5 Processor (11th Gen)</td>\n",
       "      <td>16.0</td>\n",
       "      <td>64 bit Windows 11 Operating System</td>\n",
       "      <td>512.0</td>\n",
       "      <td>35.56</td>\n",
       "    </tr>\n",
       "    <tr>\n",
       "      <th>228</th>\n",
       "      <td>Infinix ZEROBOOK 13 Intel Intel Core i5 13th G...</td>\n",
       "      <td>49990.0</td>\n",
       "      <td>4.1</td>\n",
       "      <td>Intel Core i5 Processor (13th Gen)</td>\n",
       "      <td>16.0</td>\n",
       "      <td>Windows 11 Operating System</td>\n",
       "      <td>512.0</td>\n",
       "      <td>39.62</td>\n",
       "    </tr>\n",
       "    <tr>\n",
       "      <th>229</th>\n",
       "      <td>HP Intel Core i5 12th Gen 1235U - (16 GB/512 G...</td>\n",
       "      <td>54990.0</td>\n",
       "      <td>4.2</td>\n",
       "      <td>Intel Core i5 Processor (12th Gen)</td>\n",
       "      <td>16.0</td>\n",
       "      <td>Windows 11 Operating System</td>\n",
       "      <td>512.0</td>\n",
       "      <td>39.62</td>\n",
       "    </tr>\n",
       "    <tr>\n",
       "      <th>230</th>\n",
       "      <td>MSI GF63 Intel Core i5 11th Gen 11260H - (8 GB...</td>\n",
       "      <td>41990.0</td>\n",
       "      <td>4.2</td>\n",
       "      <td>Intel Core i5 Processor (11th Gen)</td>\n",
       "      <td>8.0</td>\n",
       "      <td>Windows 11 Operating System</td>\n",
       "      <td>512.0</td>\n",
       "      <td>39.62</td>\n",
       "    </tr>\n",
       "  </tbody>\n",
       "</table>\n",
       "<p>231 rows × 8 columns</p>\n",
       "</div>"
      ],
      "text/plain": [
       "                                          product_name  new_price  \\\n",
       "0    ZEBRONICS Pro Series Y Intel Core i5 11th Gen ...    27990.0   \n",
       "1    Infinix INBook X2 Plus Intel Core i3 11th Gen ...    25990.0   \n",
       "2    Lenovo LOQ Intel Core i5 12th Gen 12450H - (16...    90990.0   \n",
       "3    Infinix Inbook Y1 Plus Intel Core i5 10th Gen ...    25990.0   \n",
       "4    ASUS TUF Gaming F15 - AI Powered Gaming Intel ...    48990.0   \n",
       "..                                                 ...        ...   \n",
       "226  ASUS TUF Gaming F15 - AI Powered Gaming Intel ...    56004.0   \n",
       "227  Infinix X2 Slim Intel Core i5 11th Gen 1155G7 ...    34990.0   \n",
       "228  Infinix ZEROBOOK 13 Intel Intel Core i5 13th G...    49990.0   \n",
       "229  HP Intel Core i5 12th Gen 1235U - (16 GB/512 G...    54990.0   \n",
       "230  MSI GF63 Intel Core i5 11th Gen 11260H - (8 GB...    41990.0   \n",
       "\n",
       "     product_rating             Processor_OR_Generation  RAM(GB)  \\\n",
       "0               4.0  Intel Core i5 Processor (11th Gen)     16.0   \n",
       "1               4.2  Intel Core i3 Processor (11th Gen)      8.0   \n",
       "2               4.5  Intel Core i5 Processor (12th Gen)     16.0   \n",
       "3               4.4  Intel Core i5 Processor (10th Gen)      8.0   \n",
       "4               4.3  Intel Core i5 Processor (11th Gen)      8.0   \n",
       "..              ...                                 ...      ...   \n",
       "226             3.7  Intel Core i5 Processor (11th Gen)      8.0   \n",
       "227             4.1  Intel Core i5 Processor (11th Gen)     16.0   \n",
       "228             4.1  Intel Core i5 Processor (13th Gen)     16.0   \n",
       "229             4.2  Intel Core i5 Processor (12th Gen)     16.0   \n",
       "230             4.2  Intel Core i5 Processor (11th Gen)      8.0   \n",
       "\n",
       "                       Operating_System  SSD(GB)  Display(cm)  \n",
       "0    64 bit Windows 11 Operating System    512.0        39.62  \n",
       "1    64 bit Windows 11 Operating System    256.0        39.62  \n",
       "2           Windows 11 Operating System    512.0        39.62  \n",
       "3           Windows 11 Operating System    512.0        39.62  \n",
       "4           Windows 11 Operating System    512.0        39.62  \n",
       "..                                  ...      ...          ...  \n",
       "226         Windows 11 Operating System   1000.0        39.62  \n",
       "227  64 bit Windows 11 Operating System    512.0        35.56  \n",
       "228         Windows 11 Operating System    512.0        39.62  \n",
       "229         Windows 11 Operating System    512.0        39.62  \n",
       "230         Windows 11 Operating System    512.0        39.62  \n",
       "\n",
       "[231 rows x 8 columns]"
      ]
     },
     "execution_count": 70,
     "metadata": {},
     "output_type": "execute_result"
    }
   ],
   "source": [
    "n_df"
   ]
  },
  {
   "cell_type": "markdown",
   "id": "fa64b871",
   "metadata": {},
   "source": [
    "## Exploratory Data Analysis (EDA) "
   ]
  },
  {
   "cell_type": "markdown",
   "id": "d25cc6dd",
   "metadata": {},
   "source": [
    "Exploratory data analysis(EDA), is the process of analysing datasets both statistically and graphically in order to determine their patterns, relationships between columns, and overall structure. In order to obtain insights and guide additional research, it includes activities like data summarising, visualisation, and outlier identification. "
   ]
  },
  {
   "cell_type": "markdown",
   "id": "4153ca16",
   "metadata": {},
   "source": [
    "##### For new_price coloumn"
   ]
  },
  {
   "cell_type": "code",
   "execution_count": 57,
   "id": "e1c3fc8d",
   "metadata": {},
   "outputs": [
    {
     "name": "stdout",
     "output_type": "stream",
     "text": [
      "count       231.000000\n",
      "mean      58595.177489\n",
      "std       42477.992783\n",
      "min       12990.000000\n",
      "25%       36895.000000\n",
      "50%       48990.000000\n",
      "75%       65590.000000\n",
      "max      344990.000000\n",
      "Name: new_price, dtype: float64\n"
     ]
    }
   ],
   "source": [
    "print(n_df['new_price'].describe())"
   ]
  },
  {
   "cell_type": "markdown",
   "id": "43e41dff",
   "metadata": {},
   "source": [
    "##### For product_rating coloumn"
   ]
  },
  {
   "cell_type": "code",
   "execution_count": 56,
   "id": "f915baca",
   "metadata": {},
   "outputs": [
    {
     "name": "stdout",
     "output_type": "stream",
     "text": [
      "count    231.000000\n",
      "mean       4.159307\n",
      "std        0.416703\n",
      "min        2.000000\n",
      "25%        4.100000\n",
      "50%        4.200000\n",
      "75%        4.300000\n",
      "max        5.000000\n",
      "Name: product_rating, dtype: float64\n"
     ]
    }
   ],
   "source": [
    "print(n_df['product_rating'].describe())"
   ]
  },
  {
   "cell_type": "markdown",
   "id": "16a7c014",
   "metadata": {},
   "source": [
    "##### For RAM(GB) coloumn"
   ]
  },
  {
   "cell_type": "code",
   "execution_count": 58,
   "id": "b50029fc",
   "metadata": {},
   "outputs": [
    {
     "name": "stdout",
     "output_type": "stream",
     "text": [
      "count    231.000000\n",
      "mean      12.303030\n",
      "std        4.724951\n",
      "min        4.000000\n",
      "25%        8.000000\n",
      "50%       16.000000\n",
      "75%       16.000000\n",
      "max       32.000000\n",
      "Name: RAM(GB), dtype: float64\n"
     ]
    }
   ],
   "source": [
    "print(n_df['RAM(GB)'].describe())"
   ]
  },
  {
   "cell_type": "markdown",
   "id": "48793d2e",
   "metadata": {},
   "source": []
  },
  {
   "cell_type": "markdown",
   "id": "b3bdf0b9",
   "metadata": {},
   "source": [
    "##### For SSD(GB) coloumn"
   ]
  },
  {
   "cell_type": "code",
   "execution_count": 59,
   "id": "f3d7f7ef",
   "metadata": {},
   "outputs": [
    {
     "name": "stdout",
     "output_type": "stream",
     "text": [
      "count     231.000000\n",
      "mean      534.680000\n",
      "std       191.986824\n",
      "min         2.000000\n",
      "25%       512.000000\n",
      "50%       512.000000\n",
      "75%       512.000000\n",
      "max      1000.000000\n",
      "Name: SSD(GB), dtype: float64\n"
     ]
    }
   ],
   "source": [
    "print(n_df['SSD(GB)'].describe())"
   ]
  },
  {
   "cell_type": "markdown",
   "id": "87552c37",
   "metadata": {},
   "source": [
    "##### For Display(cm) coloumn"
   ]
  },
  {
   "cell_type": "code",
   "execution_count": 60,
   "id": "30334235",
   "metadata": {},
   "outputs": [
    {
     "name": "stdout",
     "output_type": "stream",
     "text": [
      "count    231.000000\n",
      "mean      38.469177\n",
      "std        7.544266\n",
      "min        1.000000\n",
      "25%       35.560000\n",
      "50%       39.620000\n",
      "75%       39.620000\n",
      "max      100.630000\n",
      "Name: Display(cm), dtype: float64\n"
     ]
    }
   ],
   "source": [
    "print(n_df['Display(cm)'].describe())"
   ]
  },
  {
   "cell_type": "markdown",
   "id": "43828024",
   "metadata": {},
   "source": [
    "## Data preprocessing"
   ]
  },
  {
   "cell_type": "markdown",
   "id": "bf4e39e7",
   "metadata": {},
   "source": [
    "After knowing, undestanding and cleaning the scraped data......"
   ]
  },
  {
   "cell_type": "markdown",
   "id": "cd14b3ca",
   "metadata": {},
   "source": [
    "### Discretization"
   ]
  },
  {
   "cell_type": "markdown",
   "id": "e6f73e1f",
   "metadata": {},
   "source": [
    "We will apply discretization for \"product_rating\" coloumn based on:\n",
    "- Greater than 4 will be Excellent. (4<product_rating)\n",
    "- 3.1 To 4 will be Good. (3<product_rating<=4)\n",
    "- 2.1 To 3 will be Meduim.(2<product_rating<=3)\n",
    "- 1.1 To 2 will be bad. (1<product_rating<=2)\n",
    "- lower than or equal 1 will be very bad. (product_rating<=1)"
   ]
  },
  {
   "cell_type": "code",
   "execution_count": 26,
   "id": "70bd3981",
   "metadata": {},
   "outputs": [
    {
     "name": "stdout",
     "output_type": "stream",
     "text": [
      "0       very bad\n",
      "1      Excellent\n",
      "2           Good\n",
      "3      Excellent\n",
      "4      Excellent\n",
      "         ...    \n",
      "222    Excellent\n",
      "225         Good\n",
      "226         Good\n",
      "227    Excellent\n",
      "232    Excellent\n",
      "Name: product_rating, Length: 138, dtype: object\n"
     ]
    }
   ],
   "source": [
    "\n",
    "def ratingdes(rating):\n",
    "    if rating > 4:\n",
    "        return 'Excellent'\n",
    "    elif 3 < rating <=4 :\n",
    "        return 'Good'\n",
    "    elif 2< rating <= 3:\n",
    "        return 'Meduim'\n",
    "    elif 1 < rating <= 2:\n",
    "        return 'bad'\n",
    "    else:\n",
    "        return 'very bad'\n",
    "    \n",
    "n_df['product_rating']=n_df['product_rating'].apply(ratingdes)\n",
    "print(n_df['product_rating'])"
   ]
  },
  {
   "cell_type": "markdown",
   "id": "75be4677",
   "metadata": {},
   "source": [
    "We will apply discretization for \"new_price\" coloumn based on:\n",
    "- Greater than 160000 will be Very Expensive. (160000<new_price)\n",
    "- 120000 To 160000 will be Expensive. (120000<new_price<=160000)\n",
    "- 80000 To 120000 will be Moderate.(80000<new_price<=120000)\n",
    "- 40000 To 80000  will be low. (40000<new_price<=80000)\n",
    "- lower than or equal 40000 will be very low. (new_price<=40000)"
   ]
  },
  {
   "cell_type": "code",
   "execution_count": 27,
   "id": "89f4af21",
   "metadata": {},
   "outputs": [
    {
     "name": "stdout",
     "output_type": "stream",
     "text": [
      "0       very low\n",
      "1       very low\n",
      "2       very low\n",
      "3       very low\n",
      "4       Moderate\n",
      "         ...    \n",
      "222          low\n",
      "225          low\n",
      "226     Moderate\n",
      "227    Expensive\n",
      "232          low\n",
      "Name: new_price, Length: 138, dtype: object\n"
     ]
    }
   ],
   "source": [
    "def pricedes(price):\n",
    "    if price > 160000:\n",
    "        return 'Very Expensive'\n",
    "    elif 120000 < price <=160000 :\n",
    "        return 'Expensive'\n",
    "    elif 80000< price <=120000:\n",
    "        return 'Moderate'\n",
    "    elif 40000 < price <= 80000:\n",
    "        return 'low'\n",
    "    else:\n",
    "        return 'very low'\n",
    "    \n",
    "n_df['new_price']=n_df['new_price'].apply(pricedes)\n",
    "print(n_df['new_price'])"
   ]
  },
  {
   "cell_type": "markdown",
   "id": "7fd63b86",
   "metadata": {},
   "source": [
    "### VISUALIZATION"
   ]
  },
  {
   "cell_type": "code",
   "execution_count": 30,
   "id": "300ad46a",
   "metadata": {},
   "outputs": [
    {
     "data": {
      "image/png": "[encoded data removed]",
      "text/plain": [
       "<Figure size 1000x800 with 2 Axes>"
      ]
     },
     "metadata": {},
     "output_type": "display_data"
    }
   ],
   "source": [
    "rating = ((np.asarray(n_df['product_rating'])).reshape(138,1))\n",
    "price = ((np.asarray(n_df['new_price'])).reshape(138,1))\n",
    "df = pd.DataFrame({'Rating': rating.flatten(), 'Price': price.flatten()})\n",
    "pivot_table = df.pivot_table(index='Price', columns='Rating', aggfunc=len, fill_value=0)\n",
    "plt.figure(figsize=(10, 8))\n",
    "sns.heatmap(pivot_table, cmap='coolwarm', annot=True, fmt='d')\n",
    "plt.xlabel('Rating')\n",
    "plt.ylabel('Price')\n",
    "plt.show()"
   ]
  },
  {
   "cell_type": "code",
   "execution_count": 31,
   "id": "c59ff0af",
   "metadata": {},
   "outputs": [
    {
     "data": {
      "image/png": "[encoded data removed]",
      "text/plain": [
       "<Figure size 1000x800 with 2 Axes>"
      ]
     },
     "metadata": {},
     "output_type": "display_data"
    }
   ],
   "source": [
    "rating = ((np.asarray(n_df['product_rating'])).reshape(138,1))\n",
    "OS = ((np.asarray(n_df['Operating_System'])).reshape(138,1))\n",
    "df = pd.DataFrame({'Rating': rating.flatten(), 'OS': OS.flatten()})\n",
    "pivot_table = df.pivot_table(index='OS', columns='Rating', aggfunc=len, fill_value=0)\n",
    "plt.figure(figsize=(10, 8))\n",
    "sns.heatmap(pivot_table, cmap='coolwarm', annot=True, fmt='d')\n",
    "plt.xlabel('Rating')\n",
    "plt.ylabel('OS')\n",
    "plt.show()"
   ]
  },
  {
   "cell_type": "code",
   "execution_count": 32,
   "id": "34059b4f",
   "metadata": {},
   "outputs": [
    {
     "data": {
      "image/png": "[encoded data removed]",
      "text/plain": [
       "<Figure size 640x480 with 1 Axes>"
      ]
     },
     "metadata": {},
     "output_type": "display_data"
    }
   ],
   "source": [
    "new_price_counts = n_df['new_price'].value_counts()\n",
    "\n",
    "# Get the unique categories and their respective counts\n",
    "price_categories = new_price_counts.index.tolist()\n",
    "category_counts = new_price_counts.values.tolist()\n",
    "\n",
    "# Create the pie chart\n",
    "plt.pie(category_counts, labels=price_categories, autopct='%1.1f%%', startangle=90)\n",
    "\n",
    "# Add a title to the pie chart\n",
    "plt.title('Distribution of New Price')\n",
    "\n",
    "# Display the pie chart\n",
    "plt.axis('equal')\n",
    "plt.show()\n",
    "\n"
   ]
  },
  {
   "cell_type": "code",
   "execution_count": 33,
   "id": "c5386a26",
   "metadata": {},
   "outputs": [
    {
     "data": {
      "image/png": "[encoded data removed]",
      "text/plain": [
       "<Figure size 640x480 with 1 Axes>"
      ]
     },
     "metadata": {},
     "output_type": "display_data"
    }
   ],
   "source": [
    "new_price_counts = n_df['product_rating'].value_counts()\n",
    "\n",
    "# Get the unique categories and their respective counts\n",
    "price_categories = new_price_counts.index.tolist()\n",
    "category_counts = new_price_counts.values.tolist()\n",
    "\n",
    "# Create the pie chart\n",
    "plt.pie(category_counts, labels=price_categories, autopct='%1.1f%%', startangle=90)\n",
    "\n",
    "# Add a title to the pie chart\n",
    "plt.title('Distribution of New Price')\n",
    "\n",
    "# Display the pie chart\n",
    "plt.axis('equal')\n",
    "plt.show()"
   ]
  },
  {
   "cell_type": "code",
   "execution_count": 77,
   "id": "71d0bb85",
   "metadata": {},
   "outputs": [
    {
     "data": {
      "image/png": "[encoded data removed]",
      "text/plain": [
       "<Figure size 800x600 with 2 Axes>"
      ]
     },
     "metadata": {},
     "output_type": "display_data"
    }
   ],
   "source": [
    "selected_columns = ['product_rating', 'RAM(GB)', 'SSD(GB)', 'Display(cm)']\n",
    "df_selected = n_df[selected_columns]\n",
    "\n",
    "# Compute the correlation matrix\n",
    "corr_matrix = df_selected.corr()\n",
    "\n",
    "# Create a heatmap\n",
    "plt.figure(figsize=(8, 6))\n",
    "sns.heatmap(corr_matrix, annot=True, cmap='coolwarm', vmin=-1, vmax=1)\n",
    "\n",
    "# Set the title\n",
    "plt.title('Correlation Heatmap')\n",
    "\n",
    "# Display the plot\n",
    "plt.show()"
   ]
  },
  {
   "cell_type": "code",
   "execution_count": 78,
   "id": "0472af32",
   "metadata": {},
   "outputs": [
    {
     "data": {
      "image/png": "[encoded data removed]",
      "text/plain": [
       "<Figure size 800x600 with 1 Axes>"
      ]
     },
     "metadata": {},
     "output_type": "display_data"
    }
   ],
   "source": [
    "ram_gb_counts = n_df['RAM(GB)'].value_counts()\n",
    "\n",
    "# Create a bar chart\n",
    "plt.figure(figsize=(8, 6))\n",
    "ram_gb_counts.plot(kind='bar')\n",
    "\n",
    "# Set labels and title\n",
    "plt.xlabel('RAM(GB)')\n",
    "plt.ylabel('Frequency')\n",
    "plt.title('Frequency of RAM(GB)')\n",
    "\n",
    "# Display the plot\n",
    "plt.show()"
   ]
  },
  {
   "cell_type": "markdown",
   "id": "c42c54b3",
   "metadata": {},
   "source": [
    "ما ننسى نحفظ في ملف جديد"
   ]
  }
 ],
 "metadata": {
  "kernelspec": {
   "display_name": "Python 3 (ipykernel)",
   "language": "python",
   "name": "python3"
  },
  "language_info": {
   "codemirror_mode": {
    "name": "ipython",
    "version": 3
   },
   "file_extension": ".py",
   "mimetype": "text/x-python",
   "name": "python",
   "nbconvert_exporter": "python",
   "pygments_lexer": "ipython3",
   "version": "3.11.4"
  }
 },
 "nbformat": 4,
 "nbformat_minor": 5
}

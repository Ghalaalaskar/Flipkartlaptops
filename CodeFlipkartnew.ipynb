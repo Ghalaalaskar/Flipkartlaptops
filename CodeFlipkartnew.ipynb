{
 "cells": [
  {
   "cell_type": "markdown",
   "id": "cb9f8983",
   "metadata": {},
   "source": [
    "# Computer in FlipKart\n",
    "Our project focuses on the utilization of web scraping techniques to gather computer data from the Flipkart website. Additionally, we will employ various Python codes for cleaning and preprocessing the collected data."
   ]
  },
  {
   "cell_type": "markdown",
   "id": "a5576a3b",
   "metadata": {},
   "source": [
    "## Import libraries \n",
    "We will import the python libraries that we will use in our project."
   ]
  },
  {
   "cell_type": "code",
   "execution_count": 3,
   "id": "49e1fa63",
   "metadata": {},
   "outputs": [],
   "source": [
    "import urllib.request\n",
    "from bs4 import BeautifulSoup\n",
    "import pandas as pd\n",
    "import numpy as np\n",
    "import matplotlib.pyplot as plt\n",
    "import seaborn as sns\n",
    "sns.set_style('darkgrid')\n",
    "%matplotlib inline"
   ]
  },
  {
   "cell_type": "markdown",
   "id": "58709e90",
   "metadata": {},
   "source": [
    "## Initialize lists to store data\n",
    "We will create an array to store the column names required for our data."
   ]
  },
  {
   "cell_type": "code",
   "execution_count": 2,
   "id": "dd9d40c5",
   "metadata": {
    "scrolled": true
   },
   "outputs": [],
   "source": [
    "\n",
    "html = []\n",
    "Name = []\n",
    "New_Price = []\n",
    "product_rating = []\n",
    "Processor_OR_Generation = []\n",
    "RAM = []\n",
    "Operating_System = []\n",
    "SSD = []\n",
    "Display = []\n",
    "\n",
    "urls=[\n",
    "    'https://www.flipkart.com/search?q=best+laptops+under+86600&otracker=search&otracker1=search&marketplace=FLIPKART&as-show=on&as=off&page=24'\n",
    "    ,'https://www.flipkart.com/search?q=best+laptops+under+80000&otracker=search&otracker1=search&marketplace=FLIPKART&as-show=on&as=off&page=25'\n",
    "    ,'https://www.flipkart.com/search?q=best+laptops+under+80000&otracker=search&otracker1=search&marketplace=FLIPKART&as-show=on&as=off&page=26'\n",
    "    ,'https://www.flipkart.com/search?q=best+laptops+under+80000&otracker=search&otracker1=search&marketplace=FLIPKART&as-show=on&as=off&page=27'\n",
    "    ,'https://www.flipkart.com/search?q=best+laptops+under+80070&otracker=search&otracker1=search&marketplace=FLIPKART&as-show=on&as=off&page=28'\n",
    "    ,'https://www.flipkart.com/search?q=best+laptops+under+80000&otracker=search&otracker1=search&marketplace=FLIPKART&as-show=on&as=off&page=29'\n",
    "    ,'https://www.flipkart.com/search?q=best+laptops+under+80000&otracker=search&otracker1=search&marketplace=FLIPKART&as-show=on&as=off&page=30'\n",
    "    ,'https://www.flipkart.com/search?q=best+laptops+under+80000&otracker=search&otracker1=search&marketplace=FLIPKART&as-show=on&as=off&page=31'\n",
    "    ,'https://www.flipkart.com/search?q=best+laptops+under+80000&otracker=search&otracker1=search&marketplace=FLIPKART&as-show=on&as=off&page=32'\n",
    "    ,'https://www.flipkart.com/search?q=best+laptops+under+80000&otracker=search&otracker1=search&marketplace=FLIPKART&as-show=on&as=off&page=33'\n",
    "    ,'https://www.flipkart.com/search?q=best+laptops+under+80000&otracker=search&otracker1=search&marketplace=FLIPKART&as-show=on&as=off&page=34'\n",
    "    ,'https://www.flipkart.com/search?q=best+laptops+under+84000&otracker=search&otracker1=search&marketplace=FLIPKART&as-show=on&as=off&page=35'\n",
    "    ,'https://www.flipkart.com/search?q=best+laptops+under+85500&otracker=search&otracker1=search&marketplace=FLIPKART&as-show=on&as=off&page=36'\n",
    "    ,'https://www.flipkart.com/search?q=best+laptops+under+86600&otracker=search&otracker1=search&marketplace=FLIPKART&as-show=on&as=off&page=37'\n",
    "    ,'https://www.flipkart.com/search?q=best+laptops+under+80000&otracker=search&otracker1=search&marketplace=FLIPKART&as-show=on&as=off&page=38'\n",
    "    ,'https://www.flipkart.com/search?q=best+laptops+under+80000&otracker=search&otracker1=search&marketplace=FLIPKART&as-show=on&as=off&page=39'\n",
    "    ,'https://www.flipkart.com/search?q=best+laptops+under+80000&otracker=search&otracker1=search&marketplace=FLIPKART&as-show=on&as=off&page=40'\n",
    "    ,'https://www.flipkart.com/search?q=best+laptops+under+80070&otracker=search&otracker1=search&marketplace=FLIPKART&as-show=on&as=off&page=41'\n",
    "    ,'https://www.flipkart.com/search?q=best+laptops+under+80000&otracker=search&otracker1=search&marketplace=FLIPKART&as-show=on&as=off&page=42'\n",
    "    ,'https://www.flipkart.com/search?q=best+laptops+under+80000&otracker=search&otracker1=search&marketplace=FLIPKART&as-show=on&as=off&page=43'\n",
    "    ,'https://www.flipkart.com/search?q=best+laptops+under+80000&otracker=search&otracker1=search&marketplace=FLIPKART&as-show=on&as=off&page=44'\n",
    "    ,'https://www.flipkart.com/search?q=best+laptops+under+80000&otracker=search&otracker1=search&marketplace=FLIPKART&as-show=on&as=off&page=45'\n",
    "    ,'https://www.flipkart.com/search?q=best+laptops+under+80000&otracker=search&otracker1=search&marketplace=FLIPKART&as-show=on&as=off&page=46'\n",
    "    ,'https://www.flipkart.com/search?q=best+laptops+under+80000&otracker=search&otracker1=search&marketplace=FLIPKART&as-show=on&as=off&page=47'\n",
    "    ,'https://www.flipkart.com/search?q=best+laptops+under+84000&otracker=search&otracker1=search&marketplace=FLIPKART&as-show=on&as=off&page=48'\n",
    "    ,'https://www.flipkart.com/search?q=best+laptops+under+85500&otracker=search&otracker1=search&marketplace=FLIPKART&as-show=on&as=off&page=49'\n",
    "    ,'https://www.flipkart.com/search?q=best+laptops+under+86600&otracker=search&otracker1=search&marketplace=FLIPKART&as-show=on&as=off&page=50'\n",
    "    ,'https://www.flipkart.com/search?q=best+laptops+under+80000&otracker=search&otracker1=search&marketplace=FLIPKART&as-show=on&as=off&page=25'\n",
    "    ,'https://www.flipkart.com/search?q=best+laptops+under+80000&otracker=search&otracker1=search&marketplace=FLIPKART&as-show=on&as=off&page=26'\n",
    "    ,'https://www.flipkart.com/search?q=best+laptops+under+80000&otracker=search&otracker1=search&marketplace=FLIPKART&as-show=on&as=off&page=27'\n",
    "   ]\n",
    "\n",
    "for url in urls:\n",
    "    try:\n",
    "        page = urllib.request.urlopen(url)\n",
    "        page_html = page.read()\n",
    "        page.close()\n",
    "        page_soup = BeautifulSoup(page_html, \"html.parser\")\n",
    "        html.append(page_soup)\n",
    "\n",
    "        containers = page_soup.findAll(\"div\", {\"class\": \"_2kHMtA\"})\n",
    "\n",
    "        for container in containers:\n",
    "            if container.div and container.div.img:\n",
    "                product_name = container.div.img.get(\"alt\", \"N/A\")\n",
    "                Name.append(product_name)\n",
    "            else:\n",
    "                Name.append(\"N/A\")\n",
    "\n",
    "\n",
    "            discounted_price = container.findAll(\"div\", {\"class\": \"_30jeq3 _1_WHN1\"})\n",
    "            New_Price.append(discounted_price[0].text if discounted_price else \"N/A\")\n",
    "\n",
    "            prod_ratings = container.findAll(\"span\", {\"class\": \"_1lRcqv\"})\n",
    "            product_rating.append(prod_ratings[0].text if prod_ratings else \"N/A\")\n",
    "\n",
    "            details = container.findAll(\"li\", {\"class\": \"rgWa7D\"})\n",
    "\n",
    "            for y, detail in enumerate(details):\n",
    "                if y == 0:\n",
    "                    Processor_OR_Generation.append(detail.text)\n",
    "                elif y == 1:\n",
    "                    RAM.append(detail.text)\n",
    "                elif y == 2:\n",
    "                    Operating_System.append(detail.text)\n",
    "                elif y == 3:\n",
    "                    SSD.append(detail.text)\n",
    "                elif y == 4:\n",
    "                    Display.append(detail.text)\n",
    "\n",
    "    except Exception as e:\n",
    "        continue\n",
    "\n",
    "# Create a DataFrame from the scraped data\n",
    "product_table = pd.DataFrame(\n",
    "    {\n",
    "        \"product_name\": Name,\n",
    "        \"new_price\": New_Price,\n",
    "        \"product_rating\": product_rating,\n",
    "        \"Processor_OR_Generation\": Processor_OR_Generation,\n",
    "        \"RAM\": RAM,\n",
    "        \"Operating_System\": Operating_System,\n",
    "        \"SSD\": SSD,\n",
    "        \"Display\": Display\n",
    "    }\n",
    ")\n",
    "\n"
   ]
  },
  {
   "cell_type": "markdown",
   "id": "b50187ee",
   "metadata": {},
   "source": [
    "## Save the data collected to raw data file"
   ]
  },
  {
   "cell_type": "code",
   "execution_count": 4,
   "id": "0aef4ec6",
   "metadata": {},
   "outputs": [
    {
     "name": "stdout",
     "output_type": "stream",
     "text": [
      "HTML content written to product_html.txt\n"
     ]
    }
   ],
   "source": [
    "# Open a text file in write mode to save HTML content\n",
    "with open(\"product_html.txt\", \"w\", encoding=\"utf-8\") as file:\n",
    "# Write each page's HTML content to the file\n",
    "    for page_soup in html:\n",
    "        file.write(str(page_soup))\n",
    "print(\"HTML content written to product_html.txt\")"
   ]
  },
  {
   "cell_type": "markdown",
   "id": "01e08c88",
   "metadata": {},
   "source": [
    "## Save the DataFrame to a CSV file and print it\n"
   ]
  },
  {
   "cell_type": "code",
   "execution_count": 3,
   "id": "0b871dc1",
   "metadata": {},
   "outputs": [
    {
     "name": "stdout",
     "output_type": "stream",
     "text": [
      "Data saved to product_data.csv\n",
      "                                          product_name new_price  \\\n",
      "0    Acer Extensa (2023) AMD Ryzen 5 Quad Core 7520...   ₹31,990   \n",
      "1    ZEBRONICS Pro Series Y Intel Core i5 11th Gen ...   ₹27,990   \n",
      "2    Infinix INBook X2 Plus Intel Core i3 11th Gen ...   ₹25,990   \n",
      "3    Lenovo LOQ Intel Core i5 12th Gen 12450H - (16...   ₹90,990   \n",
      "4    Infinix Inbook Y1 Plus Intel Core i5 10th Gen ...   ₹25,990   \n",
      "..                                                 ...       ...   \n",
      "235  ASUS TUF Gaming F15 - AI Powered Gaming Intel ...   ₹56,004   \n",
      "236  Infinix X2 Slim Intel Core i5 11th Gen 1155G7 ...   ₹34,990   \n",
      "237  Infinix ZEROBOOK 13 Intel Intel Core i5 13th G...   ₹49,990   \n",
      "238  HP Intel Core i5 12th Gen 1235U - (16 GB/512 G...   ₹54,990   \n",
      "239  MSI GF63 Intel Core i5 11th Gen 11260H - (8 GB...   ₹41,990   \n",
      "\n",
      "    product_rating                   Processor_OR_Generation  \\\n",
      "0              4.1  Stylish & Portable Thin and Light Laptop   \n",
      "1                4        Intel Core i5 Processor (11th Gen)   \n",
      "2              4.2        Intel Core i3 Processor (11th Gen)   \n",
      "3              4.5        Intel Core i5 Processor (12th Gen)   \n",
      "4              4.4        Intel Core i5 Processor (10th Gen)   \n",
      "..             ...                                       ...   \n",
      "235            3.7        Intel Core i5 Processor (11th Gen)   \n",
      "236            4.1        Intel Core i5 Processor (11th Gen)   \n",
      "237            4.1        Intel Core i5 Processor (13th Gen)   \n",
      "238            4.2        Intel Core i5 Processor (12th Gen)   \n",
      "239            4.2        Intel Core i5 Processor (11th Gen)   \n",
      "\n",
      "                                          RAM  \\\n",
      "0    LPDDR5 RAM -faster & low power consuming   \n",
      "1                           16 GB LPDDR4X RAM   \n",
      "2                            8 GB LPDDR4X RAM   \n",
      "3                              16 GB DDR5 RAM   \n",
      "4                            8 GB LPDDR4X RAM   \n",
      "..                                        ...   \n",
      "235                             8 GB DDR4 RAM   \n",
      "236                         16 GB LPDDR4X RAM   \n",
      "237                         16 GB LPDDR5X RAM   \n",
      "238                            16 GB DDR4 RAM   \n",
      "239                             8 GB DDR4 RAM   \n",
      "\n",
      "                                      Operating_System  \\\n",
      "0    Firmware TPM (Trusted Platform Module)-Improve...   \n",
      "1                   64 bit Windows 11 Operating System   \n",
      "2                   64 bit Windows 11 Operating System   \n",
      "3                          Windows 11 Operating System   \n",
      "4                          Windows 11 Operating System   \n",
      "..                                                 ...   \n",
      "235                        Windows 11 Operating System   \n",
      "236                 64 bit Windows 11 Operating System   \n",
      "237                        Windows 11 Operating System   \n",
      "238                        Windows 11 Operating System   \n",
      "239                        Windows 11 Operating System   \n",
      "\n",
      "                                           SSD                       Display  \n",
      "0    FHD 1080p screen with 250 Nits brightness                 Latest WiFi 6  \n",
      "1                                   512 GB SSD  39.62 cm (15.6 inch) Display  \n",
      "2                                   256 GB SSD  39.62 cm (15.6 Inch) Display  \n",
      "3                                   512 GB SSD  39.62 cm (15.6 inch) Display  \n",
      "4                                   512 GB SSD  39.62 cm (15.6 inch) Display  \n",
      "..                                         ...                           ...  \n",
      "235                                   1 TB SSD  39.62 cm (15.6 Inch) Display  \n",
      "236                                 512 GB SSD    35.56 cm (14 inch) Display  \n",
      "237                                 512 GB SSD  39.62 cm (15.6 inch) Display  \n",
      "238                                 512 GB SSD  39.62 cm (15.6 inch) Display  \n",
      "239                                 512 GB SSD  39.62 cm (15.6 Inch) Display  \n",
      "\n",
      "[240 rows x 8 columns]\n"
     ]
    }
   ],
   "source": [
    "product_table.to_csv(\"product_data.csv\", index=False)\n",
    "print(\"Data saved to product_data.csv\")\n",
    "product_Df = pd.DataFrame(data = product_table)\n",
    "print(product_table)"
   ]
  },
  {
   "cell_type": "markdown",
   "id": "53c3e29a",
   "metadata": {},
   "source": [
    "## Reading a csv file\n",
    "we read the csv file so we can deal with the data and clean it by applying several python codes."
   ]
  },
  {
   "cell_type": "code",
   "execution_count": 30,
   "id": "30fd8a3e",
   "metadata": {},
   "outputs": [
    {
     "data": {
      "text/html": [
       "<div>\n",
       "<style scoped>\n",
       "    .dataframe tbody tr th:only-of-type {\n",
       "        vertical-align: middle;\n",
       "    }\n",
       "\n",
       "    .dataframe tbody tr th {\n",
       "        vertical-align: top;\n",
       "    }\n",
       "\n",
       "    .dataframe thead th {\n",
       "        text-align: right;\n",
       "    }\n",
       "</style>\n",
       "<table border=\"1\" class=\"dataframe\">\n",
       "  <thead>\n",
       "    <tr style=\"text-align: right;\">\n",
       "      <th></th>\n",
       "      <th>product_name</th>\n",
       "      <th>new_price</th>\n",
       "      <th>product_rating</th>\n",
       "      <th>Processor_OR_Generation</th>\n",
       "      <th>RAM(GB)</th>\n",
       "      <th>Operating_System</th>\n",
       "      <th>SSD(GB)</th>\n",
       "      <th>Display(cm)</th>\n",
       "    </tr>\n",
       "  </thead>\n",
       "  <tbody>\n",
       "    <tr>\n",
       "      <th>0</th>\n",
       "      <td>ZEBRONICS Pro Series Y Intel Core i5 11th Gen ...</td>\n",
       "      <td>₹27,990</td>\n",
       "      <td>4.0</td>\n",
       "      <td>Intel Core i5 Processor (11th Gen)</td>\n",
       "      <td>16 GB LPDDR4X RAM</td>\n",
       "      <td>64 bit Windows 11 Operating System</td>\n",
       "      <td>512 GB SSD</td>\n",
       "      <td>39.62 cm (15.6 inch) Display</td>\n",
       "    </tr>\n",
       "    <tr>\n",
       "      <th>1</th>\n",
       "      <td>Infinix INBook X2 Plus Intel Core i3 11th Gen ...</td>\n",
       "      <td>₹25,990</td>\n",
       "      <td>4.2</td>\n",
       "      <td>Intel Core i3 Processor (11th Gen)</td>\n",
       "      <td>8 GB LPDDR4X RAM</td>\n",
       "      <td>64 bit Windows 11 Operating System</td>\n",
       "      <td>256 GB SSD</td>\n",
       "      <td>39.62 cm (15.6 Inch) Display</td>\n",
       "    </tr>\n",
       "    <tr>\n",
       "      <th>2</th>\n",
       "      <td>Lenovo LOQ Intel Core i5 12th Gen 12450H - (16...</td>\n",
       "      <td>₹90,990</td>\n",
       "      <td>4.5</td>\n",
       "      <td>Intel Core i5 Processor (12th Gen)</td>\n",
       "      <td>16 GB DDR5 RAM</td>\n",
       "      <td>Windows 11 Operating System</td>\n",
       "      <td>512 GB SSD</td>\n",
       "      <td>39.62 cm (15.6 inch) Display</td>\n",
       "    </tr>\n",
       "    <tr>\n",
       "      <th>3</th>\n",
       "      <td>Infinix Inbook Y1 Plus Intel Core i5 10th Gen ...</td>\n",
       "      <td>₹25,990</td>\n",
       "      <td>4.4</td>\n",
       "      <td>Intel Core i5 Processor (10th Gen)</td>\n",
       "      <td>8 GB LPDDR4X RAM</td>\n",
       "      <td>Windows 11 Operating System</td>\n",
       "      <td>512 GB SSD</td>\n",
       "      <td>39.62 cm (15.6 inch) Display</td>\n",
       "    </tr>\n",
       "    <tr>\n",
       "      <th>4</th>\n",
       "      <td>ASUS TUF Gaming F15 - AI Powered Gaming Intel ...</td>\n",
       "      <td>₹48,990</td>\n",
       "      <td>4.3</td>\n",
       "      <td>Intel Core i5 Processor (11th Gen)</td>\n",
       "      <td>8 GB DDR4 RAM</td>\n",
       "      <td>Windows 11 Operating System</td>\n",
       "      <td>512 GB SSD</td>\n",
       "      <td>39.62 cm (15.6 Inch) Display</td>\n",
       "    </tr>\n",
       "    <tr>\n",
       "      <th>...</th>\n",
       "      <td>...</td>\n",
       "      <td>...</td>\n",
       "      <td>...</td>\n",
       "      <td>...</td>\n",
       "      <td>...</td>\n",
       "      <td>...</td>\n",
       "      <td>...</td>\n",
       "      <td>...</td>\n",
       "    </tr>\n",
       "    <tr>\n",
       "      <th>226</th>\n",
       "      <td>ASUS TUF Gaming F15 - AI Powered Gaming Intel ...</td>\n",
       "      <td>₹56,004</td>\n",
       "      <td>3.7</td>\n",
       "      <td>Intel Core i5 Processor (11th Gen)</td>\n",
       "      <td>8 GB DDR4 RAM</td>\n",
       "      <td>Windows 11 Operating System</td>\n",
       "      <td>1 TB SSD</td>\n",
       "      <td>39.62 cm (15.6 Inch) Display</td>\n",
       "    </tr>\n",
       "    <tr>\n",
       "      <th>227</th>\n",
       "      <td>Infinix X2 Slim Intel Core i5 11th Gen 1155G7 ...</td>\n",
       "      <td>₹34,990</td>\n",
       "      <td>4.1</td>\n",
       "      <td>Intel Core i5 Processor (11th Gen)</td>\n",
       "      <td>16 GB LPDDR4X RAM</td>\n",
       "      <td>64 bit Windows 11 Operating System</td>\n",
       "      <td>512 GB SSD</td>\n",
       "      <td>35.56 cm (14 inch) Display</td>\n",
       "    </tr>\n",
       "    <tr>\n",
       "      <th>228</th>\n",
       "      <td>Infinix ZEROBOOK 13 Intel Intel Core i5 13th G...</td>\n",
       "      <td>₹49,990</td>\n",
       "      <td>4.1</td>\n",
       "      <td>Intel Core i5 Processor (13th Gen)</td>\n",
       "      <td>16 GB LPDDR5X RAM</td>\n",
       "      <td>Windows 11 Operating System</td>\n",
       "      <td>512 GB SSD</td>\n",
       "      <td>39.62 cm (15.6 inch) Display</td>\n",
       "    </tr>\n",
       "    <tr>\n",
       "      <th>229</th>\n",
       "      <td>HP Intel Core i5 12th Gen 1235U - (16 GB/512 G...</td>\n",
       "      <td>₹54,990</td>\n",
       "      <td>4.2</td>\n",
       "      <td>Intel Core i5 Processor (12th Gen)</td>\n",
       "      <td>16 GB DDR4 RAM</td>\n",
       "      <td>Windows 11 Operating System</td>\n",
       "      <td>512 GB SSD</td>\n",
       "      <td>39.62 cm (15.6 inch) Display</td>\n",
       "    </tr>\n",
       "    <tr>\n",
       "      <th>230</th>\n",
       "      <td>MSI GF63 Intel Core i5 11th Gen 11260H - (8 GB...</td>\n",
       "      <td>₹41,990</td>\n",
       "      <td>4.2</td>\n",
       "      <td>Intel Core i5 Processor (11th Gen)</td>\n",
       "      <td>8 GB DDR4 RAM</td>\n",
       "      <td>Windows 11 Operating System</td>\n",
       "      <td>512 GB SSD</td>\n",
       "      <td>39.62 cm (15.6 Inch) Display</td>\n",
       "    </tr>\n",
       "  </tbody>\n",
       "</table>\n",
       "<p>231 rows × 8 columns</p>\n",
       "</div>"
      ],
      "text/plain": [
       "                                          product_name new_price  \\\n",
       "0    ZEBRONICS Pro Series Y Intel Core i5 11th Gen ...   ₹27,990   \n",
       "1    Infinix INBook X2 Plus Intel Core i3 11th Gen ...   ₹25,990   \n",
       "2    Lenovo LOQ Intel Core i5 12th Gen 12450H - (16...   ₹90,990   \n",
       "3    Infinix Inbook Y1 Plus Intel Core i5 10th Gen ...   ₹25,990   \n",
       "4    ASUS TUF Gaming F15 - AI Powered Gaming Intel ...   ₹48,990   \n",
       "..                                                 ...       ...   \n",
       "226  ASUS TUF Gaming F15 - AI Powered Gaming Intel ...   ₹56,004   \n",
       "227  Infinix X2 Slim Intel Core i5 11th Gen 1155G7 ...   ₹34,990   \n",
       "228  Infinix ZEROBOOK 13 Intel Intel Core i5 13th G...   ₹49,990   \n",
       "229  HP Intel Core i5 12th Gen 1235U - (16 GB/512 G...   ₹54,990   \n",
       "230  MSI GF63 Intel Core i5 11th Gen 11260H - (8 GB...   ₹41,990   \n",
       "\n",
       "     product_rating             Processor_OR_Generation            RAM(GB)  \\\n",
       "0               4.0  Intel Core i5 Processor (11th Gen)  16 GB LPDDR4X RAM   \n",
       "1               4.2  Intel Core i3 Processor (11th Gen)   8 GB LPDDR4X RAM   \n",
       "2               4.5  Intel Core i5 Processor (12th Gen)     16 GB DDR5 RAM   \n",
       "3               4.4  Intel Core i5 Processor (10th Gen)   8 GB LPDDR4X RAM   \n",
       "4               4.3  Intel Core i5 Processor (11th Gen)      8 GB DDR4 RAM   \n",
       "..              ...                                 ...                ...   \n",
       "226             3.7  Intel Core i5 Processor (11th Gen)      8 GB DDR4 RAM   \n",
       "227             4.1  Intel Core i5 Processor (11th Gen)  16 GB LPDDR4X RAM   \n",
       "228             4.1  Intel Core i5 Processor (13th Gen)  16 GB LPDDR5X RAM   \n",
       "229             4.2  Intel Core i5 Processor (12th Gen)     16 GB DDR4 RAM   \n",
       "230             4.2  Intel Core i5 Processor (11th Gen)      8 GB DDR4 RAM   \n",
       "\n",
       "                       Operating_System     SSD(GB)  \\\n",
       "0    64 bit Windows 11 Operating System  512 GB SSD   \n",
       "1    64 bit Windows 11 Operating System  256 GB SSD   \n",
       "2           Windows 11 Operating System  512 GB SSD   \n",
       "3           Windows 11 Operating System  512 GB SSD   \n",
       "4           Windows 11 Operating System  512 GB SSD   \n",
       "..                                  ...         ...   \n",
       "226         Windows 11 Operating System    1 TB SSD   \n",
       "227  64 bit Windows 11 Operating System  512 GB SSD   \n",
       "228         Windows 11 Operating System  512 GB SSD   \n",
       "229         Windows 11 Operating System  512 GB SSD   \n",
       "230         Windows 11 Operating System  512 GB SSD   \n",
       "\n",
       "                      Display(cm)  \n",
       "0    39.62 cm (15.6 inch) Display  \n",
       "1    39.62 cm (15.6 Inch) Display  \n",
       "2    39.62 cm (15.6 inch) Display  \n",
       "3    39.62 cm (15.6 inch) Display  \n",
       "4    39.62 cm (15.6 Inch) Display  \n",
       "..                            ...  \n",
       "226  39.62 cm (15.6 Inch) Display  \n",
       "227    35.56 cm (14 inch) Display  \n",
       "228  39.62 cm (15.6 inch) Display  \n",
       "229  39.62 cm (15.6 inch) Display  \n",
       "230  39.62 cm (15.6 Inch) Display  \n",
       "\n",
       "[231 rows x 8 columns]"
      ]
     },
     "execution_count": 30,
     "metadata": {},
     "output_type": "execute_result"
    }
   ],
   "source": [
    "new_df = pd.read_csv(\"product_data.csv\", names =[\"product_name\",\"new_price\",\"product_rating\",\"Processor_OR_Generation\", \"RAM(GB)\"\n",
    ",\"Operating_System\",\"SSD(GB)\",\"Display(cm)\"] ,header=None)\n",
    "new_df"
   ]
  },
  {
   "cell_type": "markdown",
   "id": "8b79d178",
   "metadata": {},
   "source": [
    "## Data overview \n",
    "In this section, our goal is to gain insights into our dataset by determining the number of columns and rows it contains."
   ]
  },
  {
   "cell_type": "code",
   "execution_count": 14,
   "id": "a9cf8dcb",
   "metadata": {},
   "outputs": [
    {
     "data": {
      "text/plain": [
       "(231, 8)"
      ]
     },
     "execution_count": 14,
     "metadata": {},
     "output_type": "execute_result"
    }
   ],
   "source": [
    "new_df.shape"
   ]
  },
  {
   "cell_type": "markdown",
   "id": "0aaa954d",
   "metadata": {},
   "source": [
    "the above result indicate that our data contains 231 rows where each row has different type of computer. Also, it contains 8 coloumns where each coloumn show an attribute."
   ]
  },
  {
   "cell_type": "markdown",
   "id": "fb317517",
   "metadata": {},
   "source": [
    "## Data Cleaning "
   ]
  },
  {
   "cell_type": "markdown",
   "id": "26a941f5",
   "metadata": {},
   "source": [
    "Our goal in the data cleaning section is to improve the quality of the data by fixing errors, missing numbers, and inconsistencies. This involves tasks such as removing duplicates, and imputing missing data to ensure accuracy for subsequent analysis. The objective is to get a clean and reliable dataset for further exploration and modeling efforts."
   ]
  },
  {
   "cell_type": "markdown",
   "id": "655a0b36",
   "metadata": {},
   "source": [
    "### Checking nulls"
   ]
  },
  {
   "cell_type": "code",
   "execution_count": 7,
   "id": "b18e5031",
   "metadata": {},
   "outputs": [
    {
     "data": {
      "text/plain": [
       "product_name                0\n",
       "new_price                   0\n",
       "product_rating             20\n",
       "Processor_OR_Generation     0\n",
       "RAM                         0\n",
       "Operating_System            0\n",
       "SSD                         0\n",
       "Display                     0\n",
       "dtype: int64"
      ]
     },
     "execution_count": 7,
     "metadata": {},
     "output_type": "execute_result"
    }
   ],
   "source": [
    "new_df.replace('NaN',0)\n",
    "new_df.isnull().sum()"
   ]
  },
  {
   "cell_type": "markdown",
   "id": "2c3a7edb",
   "metadata": {},
   "source": [
    "we found that product_rating has 20 null cells so, we will fill it manually based on users reviwes."
   ]
  },
  {
   "cell_type": "markdown",
   "id": "e8420796",
   "metadata": {},
   "source": [
    "### Saving the data in new data frame without null"
   ]
  },
  {
   "cell_type": "code",
   "execution_count": 65,
   "id": "440c8913",
   "metadata": {},
   "outputs": [
    {
     "data": {
      "text/plain": [
       "product_name               0\n",
       "new_price                  0\n",
       "product_rating             0\n",
       "Processor_OR_Generation    0\n",
       "RAM(GB)                    0\n",
       "Operating_System           0\n",
       "SSD(GB)                    0\n",
       "Display(cm)                0\n",
       "dtype: int64"
      ]
     },
     "execution_count": 65,
     "metadata": {},
     "output_type": "execute_result"
    }
   ],
   "source": [
    "n_df =pd.read_csv(\"product_data.csv\", names =[\"product_name\",\"new_price\",\"product_rating\",\"Processor_OR_Generation\",\"RAM(GB)\"\n",
    ",\"Operating_System\",\"SSD(GB)\",\"Display(cm)\"] ,header=None)\n",
    "n_df.isnull().sum()"
   ]
  },
  {
   "cell_type": "markdown",
   "id": "2cf5f2ac",
   "metadata": {},
   "source": [
    "The above result shows that there's no more nulls."
   ]
  },
  {
   "cell_type": "markdown",
   "id": "3c017fb8",
   "metadata": {},
   "source": [
    "### Showing duplicated rows\n"
   ]
  },
  {
   "cell_type": "code",
   "execution_count": 66,
   "id": "3a217417",
   "metadata": {},
   "outputs": [
    {
     "data": {
      "text/plain": [
       "95"
      ]
     },
     "execution_count": 66,
     "metadata": {},
     "output_type": "execute_result"
    }
   ],
   "source": [
    "sum(n_df.duplicated())"
   ]
  },
  {
   "cell_type": "markdown",
   "id": "2601dd1d",
   "metadata": {},
   "source": [
    "Based on the above results, we have identified that there are 95 duplicated rows in our dataset. To address this issue, we can use the following Python code to retain only the first occurrence of each row."
   ]
  },
  {
   "cell_type": "code",
   "execution_count": 67,
   "id": "0971744a",
   "metadata": {},
   "outputs": [
    {
     "data": {
      "text/plain": [
       "0"
      ]
     },
     "execution_count": 67,
     "metadata": {},
     "output_type": "execute_result"
    }
   ],
   "source": [
    "n_df.drop_duplicates(keep='first', inplace=True)\n",
    "sum(n_df.duplicated())"
   ]
  },
  {
   "cell_type": "markdown",
   "id": "9791694c",
   "metadata": {},
   "source": [
    "We drop the duplicated rows succesfully."
   ]
  },
  {
   "cell_type": "markdown",
   "id": "76ae1784",
   "metadata": {},
   "source": [
    "### Find general information about our data coloumns"
   ]
  },
  {
   "cell_type": "code",
   "execution_count": 68,
   "id": "f87c2111",
   "metadata": {},
   "outputs": [
    {
     "name": "stdout",
     "output_type": "stream",
     "text": [
      "<class 'pandas.core.frame.DataFrame'>\n",
      "Int64Index: 136 entries, 0 to 222\n",
      "Data columns (total 8 columns):\n",
      " #   Column                   Non-Null Count  Dtype  \n",
      "---  ------                   --------------  -----  \n",
      " 0   product_name             136 non-null    object \n",
      " 1   new_price                136 non-null    object \n",
      " 2   product_rating           136 non-null    float64\n",
      " 3   Processor_OR_Generation  136 non-null    object \n",
      " 4   RAM(GB)                  136 non-null    object \n",
      " 5   Operating_System         136 non-null    object \n",
      " 6   SSD(GB)                  136 non-null    object \n",
      " 7   Display(cm)              136 non-null    object \n",
      "dtypes: float64(1), object(7)\n",
      "memory usage: 9.6+ KB\n",
      "None\n"
     ]
    }
   ],
   "source": [
    "print(n_df.info())"
   ]
  },
  {
   "cell_type": "markdown",
   "id": "155fd24a",
   "metadata": {},
   "source": [
    "Our data consists of 8 columns which provide information about the product computers. 7 columns are object type and product_rating column is float type. The product_name column indicates information about the name of the computer. The new_price column gives us information about the computer price. The product_rating column gives us information about how people rate the computer when they buy it. The Processor_OR_Generation column indicates information about the computer processor or the computer generation. The RAM column refers to the amount of Random Access Memory (RAM) available in a computer. The Operating_System column refers to the OS used in the computer like Windows, macOS, etc. The SSD column represents a storage device that contains non-volatile memory. The Display column refers to the screen size of the computer. \n",
    "\n",
    "These columns contain helpful information for understanding and assessing our data which is computer information."
   ]
  },
  {
   "cell_type": "markdown",
   "id": "f8455172",
   "metadata": {},
   "source": [
    "## Transofrm the data into float"
   ]
  },
  {
   "cell_type": "markdown",
   "id": "f8411e9e",
   "metadata": {},
   "source": [
    "We transform the new_price, RAM(GB), SSD(GB) and Display(cm) columns from object type into float type because we will need them as a float to make preprocessing techniques on them."
   ]
  },
  {
   "cell_type": "markdown",
   "id": "822149c1",
   "metadata": {},
   "source": [
    "##### For new_price coloumn"
   ]
  },
  {
   "cell_type": "code",
   "execution_count": 69,
   "id": "534cde7e",
   "metadata": {},
   "outputs": [
    {
     "name": "stdout",
     "output_type": "stream",
     "text": [
      "0       27990.0\n",
      "1       25990.0\n",
      "2       90990.0\n",
      "3       25990.0\n",
      "4       48990.0\n",
      "         ...   \n",
      "213     52990.0\n",
      "215     53499.0\n",
      "216    107990.0\n",
      "217    159990.0\n",
      "222     46999.0\n",
      "Name: new_price, Length: 136, dtype: float64\n"
     ]
    }
   ],
   "source": [
    "n_df['new_price'] = n_df['new_price'].replace('\\₹', '', regex=True)\n",
    "n_df['new_price'] = n_df['new_price'].replace('\\,', '', regex=True)\n",
    "n_df['new_price'] = pd.to_numeric(n_df['new_price'], errors='coerce')\n",
    "n_df['new_price'] = n_df['new_price'].astype(float)\n",
    "print(n_df['new_price'])"
   ]
  },
  {
   "cell_type": "markdown",
   "id": "07cf36c0",
   "metadata": {},
   "source": [
    "##### For RAM(GB) coloumn"
   ]
  },
  {
   "cell_type": "code",
   "execution_count": 70,
   "id": "66310549",
   "metadata": {},
   "outputs": [
    {
     "data": {
      "text/plain": [
       "0      16.0\n",
       "1       8.0\n",
       "2      16.0\n",
       "3       8.0\n",
       "4       8.0\n",
       "       ... \n",
       "213    16.0\n",
       "215    16.0\n",
       "216    16.0\n",
       "217    16.0\n",
       "222     8.0\n",
       "Name: RAM(GB), Length: 136, dtype: float64"
      ]
     },
     "execution_count": 70,
     "metadata": {},
     "output_type": "execute_result"
    }
   ],
   "source": [
    "n_df['RAM(GB)'] = n_df['RAM(GB)'].str.split().str[0]\n",
    "n_df['RAM(GB)'] = n_df['RAM(GB)'].astype(float)\n",
    "n_df['RAM(GB)']"
   ]
  },
  {
   "cell_type": "markdown",
   "id": "7412521c",
   "metadata": {},
   "source": [
    "##### For SSD(GB) coloumn"
   ]
  },
  {
   "cell_type": "code",
   "execution_count": 71,
   "id": "ff6fecc2",
   "metadata": {},
   "outputs": [
    {
     "data": {
      "text/plain": [
       "0       512.0\n",
       "1       256.0\n",
       "2       512.0\n",
       "3       512.0\n",
       "4       512.0\n",
       "        ...  \n",
       "213     512.0\n",
       "215     512.0\n",
       "216    1000.0\n",
       "217    1000.0\n",
       "222     512.0\n",
       "Name: SSD(GB), Length: 136, dtype: float64"
      ]
     },
     "execution_count": 71,
     "metadata": {},
     "output_type": "execute_result"
    }
   ],
   "source": [
    "n_df['SSD(GB)'] = n_df['SSD(GB)'].str.split().str[0]\n",
    "n_df.loc[n_df['SSD(GB)'] == '1', 'SSD(GB)'] = '1000'\n",
    "n_df['SSD(GB)'] = n_df['SSD(GB)'].astype(float)\n",
    "n_df['SSD(GB)']"
   ]
  },
  {
   "cell_type": "markdown",
   "id": "76995495",
   "metadata": {},
   "source": [
    "##### For Display coloumn"
   ]
  },
  {
   "cell_type": "code",
   "execution_count": 72,
   "id": "2cf0783d",
   "metadata": {},
   "outputs": [
    {
     "data": {
      "text/plain": [
       "0      39.62\n",
       "1      39.62\n",
       "2      39.62\n",
       "3      39.62\n",
       "4      39.62\n",
       "       ...  \n",
       "213    35.56\n",
       "215    39.62\n",
       "216    39.62\n",
       "217    40.64\n",
       "222    39.62\n",
       "Name: Display(cm), Length: 136, dtype: float64"
      ]
     },
     "execution_count": 72,
     "metadata": {},
     "output_type": "execute_result"
    }
   ],
   "source": [
    "n_df['Display(cm)'] = n_df['Display(cm)'].str.split().str[0]\n",
    "n_df.loc[n_df['SSD(GB)'] == '1', 'Display(cm)'] = '1000'\n",
    "n_df['Display(cm)'] = n_df['Display(cm)'].astype(float)\n",
    "n_df['Display(cm)']"
   ]
  },
  {
   "cell_type": "markdown",
   "id": "3576383a",
   "metadata": {},
   "source": [
    "### View the data after cleaning and transforming some coloumns into numeric "
   ]
  },
  {
   "cell_type": "code",
   "execution_count": 73,
   "id": "2696c6bc",
   "metadata": {},
   "outputs": [
    {
     "data": {
      "text/html": [
       "<div>\n",
       "<style scoped>\n",
       "    .dataframe tbody tr th:only-of-type {\n",
       "        vertical-align: middle;\n",
       "    }\n",
       "\n",
       "    .dataframe tbody tr th {\n",
       "        vertical-align: top;\n",
       "    }\n",
       "\n",
       "    .dataframe thead th {\n",
       "        text-align: right;\n",
       "    }\n",
       "</style>\n",
       "<table border=\"1\" class=\"dataframe\">\n",
       "  <thead>\n",
       "    <tr style=\"text-align: right;\">\n",
       "      <th></th>\n",
       "      <th>product_name</th>\n",
       "      <th>new_price</th>\n",
       "      <th>product_rating</th>\n",
       "      <th>Processor_OR_Generation</th>\n",
       "      <th>RAM(GB)</th>\n",
       "      <th>Operating_System</th>\n",
       "      <th>SSD(GB)</th>\n",
       "      <th>Display(cm)</th>\n",
       "    </tr>\n",
       "  </thead>\n",
       "  <tbody>\n",
       "    <tr>\n",
       "      <th>0</th>\n",
       "      <td>ZEBRONICS Pro Series Y Intel Core i5 11th Gen ...</td>\n",
       "      <td>27990.0</td>\n",
       "      <td>4.0</td>\n",
       "      <td>Intel Core i5 Processor (11th Gen)</td>\n",
       "      <td>16.0</td>\n",
       "      <td>64 bit Windows 11 Operating System</td>\n",
       "      <td>512.0</td>\n",
       "      <td>39.62</td>\n",
       "    </tr>\n",
       "    <tr>\n",
       "      <th>1</th>\n",
       "      <td>Infinix INBook X2 Plus Intel Core i3 11th Gen ...</td>\n",
       "      <td>25990.0</td>\n",
       "      <td>4.2</td>\n",
       "      <td>Intel Core i3 Processor (11th Gen)</td>\n",
       "      <td>8.0</td>\n",
       "      <td>64 bit Windows 11 Operating System</td>\n",
       "      <td>256.0</td>\n",
       "      <td>39.62</td>\n",
       "    </tr>\n",
       "    <tr>\n",
       "      <th>2</th>\n",
       "      <td>Lenovo LOQ Intel Core i5 12th Gen 12450H - (16...</td>\n",
       "      <td>90990.0</td>\n",
       "      <td>4.5</td>\n",
       "      <td>Intel Core i5 Processor (12th Gen)</td>\n",
       "      <td>16.0</td>\n",
       "      <td>Windows 11 Operating System</td>\n",
       "      <td>512.0</td>\n",
       "      <td>39.62</td>\n",
       "    </tr>\n",
       "    <tr>\n",
       "      <th>3</th>\n",
       "      <td>Infinix Inbook Y1 Plus Intel Core i5 10th Gen ...</td>\n",
       "      <td>25990.0</td>\n",
       "      <td>4.4</td>\n",
       "      <td>Intel Core i5 Processor (10th Gen)</td>\n",
       "      <td>8.0</td>\n",
       "      <td>Windows 11 Operating System</td>\n",
       "      <td>512.0</td>\n",
       "      <td>39.62</td>\n",
       "    </tr>\n",
       "    <tr>\n",
       "      <th>4</th>\n",
       "      <td>ASUS TUF Gaming F15 - AI Powered Gaming Intel ...</td>\n",
       "      <td>48990.0</td>\n",
       "      <td>4.3</td>\n",
       "      <td>Intel Core i5 Processor (11th Gen)</td>\n",
       "      <td>8.0</td>\n",
       "      <td>Windows 11 Operating System</td>\n",
       "      <td>512.0</td>\n",
       "      <td>39.62</td>\n",
       "    </tr>\n",
       "    <tr>\n",
       "      <th>...</th>\n",
       "      <td>...</td>\n",
       "      <td>...</td>\n",
       "      <td>...</td>\n",
       "      <td>...</td>\n",
       "      <td>...</td>\n",
       "      <td>...</td>\n",
       "      <td>...</td>\n",
       "      <td>...</td>\n",
       "    </tr>\n",
       "    <tr>\n",
       "      <th>213</th>\n",
       "      <td>MSI Modern 14 AMD Ryzen 7 Octa Core 7730U - (1...</td>\n",
       "      <td>52990.0</td>\n",
       "      <td>4.4</td>\n",
       "      <td>AMD Ryzen 7 Octa Core Processor</td>\n",
       "      <td>16.0</td>\n",
       "      <td>Windows 11 Operating System</td>\n",
       "      <td>512.0</td>\n",
       "      <td>35.56</td>\n",
       "    </tr>\n",
       "    <tr>\n",
       "      <th>215</th>\n",
       "      <td>DELL Intel Core i5 12th Gen 1235U - (16 GB/512...</td>\n",
       "      <td>53499.0</td>\n",
       "      <td>3.4</td>\n",
       "      <td>Intel Core i5 Processor (12th Gen)</td>\n",
       "      <td>16.0</td>\n",
       "      <td>Windows 11 Operating System</td>\n",
       "      <td>512.0</td>\n",
       "      <td>39.62</td>\n",
       "    </tr>\n",
       "    <tr>\n",
       "      <th>216</th>\n",
       "      <td>MSI Cyborg 15 AI Intel Core Ultra 7 155H - (16...</td>\n",
       "      <td>107990.0</td>\n",
       "      <td>3.8</td>\n",
       "      <td>Intel Core Ultra 7 Processor</td>\n",
       "      <td>16.0</td>\n",
       "      <td>Windows 11 Operating System</td>\n",
       "      <td>1000.0</td>\n",
       "      <td>39.62</td>\n",
       "    </tr>\n",
       "    <tr>\n",
       "      <th>217</th>\n",
       "      <td>Acer Predator Intel Core i9 13th Gen 13900HX -...</td>\n",
       "      <td>159990.0</td>\n",
       "      <td>4.6</td>\n",
       "      <td>Intel Core i9 Processor (13th Gen)</td>\n",
       "      <td>16.0</td>\n",
       "      <td>Windows 11 Operating System</td>\n",
       "      <td>1000.0</td>\n",
       "      <td>40.64</td>\n",
       "    </tr>\n",
       "    <tr>\n",
       "      <th>222</th>\n",
       "      <td>DELL Intel Core i5 12th Gen 1235U - (8 GB/512 ...</td>\n",
       "      <td>46999.0</td>\n",
       "      <td>4.3</td>\n",
       "      <td>Intel Core i5 Processor (12th Gen)</td>\n",
       "      <td>8.0</td>\n",
       "      <td>Windows 11 Operating System</td>\n",
       "      <td>512.0</td>\n",
       "      <td>39.62</td>\n",
       "    </tr>\n",
       "  </tbody>\n",
       "</table>\n",
       "<p>136 rows × 8 columns</p>\n",
       "</div>"
      ],
      "text/plain": [
       "                                          product_name  new_price  \\\n",
       "0    ZEBRONICS Pro Series Y Intel Core i5 11th Gen ...    27990.0   \n",
       "1    Infinix INBook X2 Plus Intel Core i3 11th Gen ...    25990.0   \n",
       "2    Lenovo LOQ Intel Core i5 12th Gen 12450H - (16...    90990.0   \n",
       "3    Infinix Inbook Y1 Plus Intel Core i5 10th Gen ...    25990.0   \n",
       "4    ASUS TUF Gaming F15 - AI Powered Gaming Intel ...    48990.0   \n",
       "..                                                 ...        ...   \n",
       "213  MSI Modern 14 AMD Ryzen 7 Octa Core 7730U - (1...    52990.0   \n",
       "215  DELL Intel Core i5 12th Gen 1235U - (16 GB/512...    53499.0   \n",
       "216  MSI Cyborg 15 AI Intel Core Ultra 7 155H - (16...   107990.0   \n",
       "217  Acer Predator Intel Core i9 13th Gen 13900HX -...   159990.0   \n",
       "222  DELL Intel Core i5 12th Gen 1235U - (8 GB/512 ...    46999.0   \n",
       "\n",
       "     product_rating             Processor_OR_Generation  RAM(GB)  \\\n",
       "0               4.0  Intel Core i5 Processor (11th Gen)     16.0   \n",
       "1               4.2  Intel Core i3 Processor (11th Gen)      8.0   \n",
       "2               4.5  Intel Core i5 Processor (12th Gen)     16.0   \n",
       "3               4.4  Intel Core i5 Processor (10th Gen)      8.0   \n",
       "4               4.3  Intel Core i5 Processor (11th Gen)      8.0   \n",
       "..              ...                                 ...      ...   \n",
       "213             4.4     AMD Ryzen 7 Octa Core Processor     16.0   \n",
       "215             3.4  Intel Core i5 Processor (12th Gen)     16.0   \n",
       "216             3.8        Intel Core Ultra 7 Processor     16.0   \n",
       "217             4.6  Intel Core i9 Processor (13th Gen)     16.0   \n",
       "222             4.3  Intel Core i5 Processor (12th Gen)      8.0   \n",
       "\n",
       "                       Operating_System  SSD(GB)  Display(cm)  \n",
       "0    64 bit Windows 11 Operating System    512.0        39.62  \n",
       "1    64 bit Windows 11 Operating System    256.0        39.62  \n",
       "2           Windows 11 Operating System    512.0        39.62  \n",
       "3           Windows 11 Operating System    512.0        39.62  \n",
       "4           Windows 11 Operating System    512.0        39.62  \n",
       "..                                  ...      ...          ...  \n",
       "213         Windows 11 Operating System    512.0        35.56  \n",
       "215         Windows 11 Operating System    512.0        39.62  \n",
       "216         Windows 11 Operating System   1000.0        39.62  \n",
       "217         Windows 11 Operating System   1000.0        40.64  \n",
       "222         Windows 11 Operating System    512.0        39.62  \n",
       "\n",
       "[136 rows x 8 columns]"
      ]
     },
     "execution_count": 73,
     "metadata": {},
     "output_type": "execute_result"
    }
   ],
   "source": [
    "n_df"
   ]
  },
  {
   "cell_type": "markdown",
   "id": "fa64b871",
   "metadata": {},
   "source": [
    "## Exploratory Data Analysis (EDA) "
   ]
  },
  {
   "cell_type": "markdown",
   "id": "d25cc6dd",
   "metadata": {},
   "source": [
    "Exploratory data analysis (EDA), is the process of analysing datasets both statistically and graphically in order to determine their patterns, relationships between columns, and overall structure. In order to obtain insights and guide additional research, it includes activities like data summarising, visualisation, and outlier identification. \n",
    "\n",
    "In this section, we will display a preview of the five statistical summary measures of our dataset."
   ]
  },
  {
   "cell_type": "markdown",
   "id": "4153ca16",
   "metadata": {},
   "source": [
    "##### For new_price coloumn"
   ]
  },
  {
   "cell_type": "code",
   "execution_count": 74,
   "id": "e1c3fc8d",
   "metadata": {},
   "outputs": [
    {
     "name": "stdout",
     "output_type": "stream",
     "text": [
      "count       136.000000\n",
      "mean      66515.522059\n",
      "std       52026.661457\n",
      "min       12990.000000\n",
      "25%       36990.000000\n",
      "50%       50744.500000\n",
      "75%       82240.000000\n",
      "max      344990.000000\n",
      "Name: new_price, dtype: float64\n"
     ]
    }
   ],
   "source": [
    "print(n_df['new_price'].describe())"
   ]
  },
  {
   "cell_type": "markdown",
   "id": "8a9e2420",
   "metadata": {},
   "source": [
    "The new_price column of our dataset contains 231 data points. The average (mean) price is approximately 58,595.18, with a standard deviation of 42,477.99. The minimum price in the dataset is 12,990, while the maximum price is 344,990.\n",
    "\n",
    "The new_ price statistical summary provides additional insights. The 25th percentile (Q1) is 36,895, indicating that 25% of the prices fall below this value. The median (50th percentile or Q2) is 48,990, representing the middle value in the dataset. The 75th percentile (Q3) is 65,590, indicating that 75% of prices are below this value.\n",
    "\n",
    "These data provide us with a summary which help us understanding the distribution and range of prices in our dataset."
   ]
  },
  {
   "cell_type": "markdown",
   "id": "43e41dff",
   "metadata": {},
   "source": [
    "##### For product_rating coloumn"
   ]
  },
  {
   "cell_type": "code",
   "execution_count": 75,
   "id": "f915baca",
   "metadata": {},
   "outputs": [
    {
     "name": "stdout",
     "output_type": "stream",
     "text": [
      "count    136.000000\n",
      "mean       4.098529\n",
      "std        0.505669\n",
      "min        2.000000\n",
      "25%        3.900000\n",
      "50%        4.200000\n",
      "75%        4.400000\n",
      "max        5.000000\n",
      "Name: product_rating, dtype: float64\n"
     ]
    }
   ],
   "source": [
    "print(n_df['product_rating'].describe())"
   ]
  },
  {
   "cell_type": "markdown",
   "id": "7d8c2967",
   "metadata": {},
   "source": [
    "The product_rating column in our dataset contains 231 data points. The average (mean) rating is approximately 4.16, with a standard deviation of 0.42. The minimum rating in the dataset is 2.0, while the maximum rating is 5.0 since the rating is scale of 5.0.\n",
    "\n",
    "The product_rating statistical summary provides additional insights. The 25th percentile (Q1) is 4.1, indicating that 25% of the ratings fall below this value. The median (50th percentile or Q2) is 4.2, representing the middle value in the dataset. The 75th percentile (Q3) is 4.3, indicating that 75% of the ratings are below this value.\n",
    "\n",
    "Theese data provide us with a summary which help us understanding the rating in our dataset."
   ]
  },
  {
   "cell_type": "markdown",
   "id": "16a7c014",
   "metadata": {},
   "source": [
    "##### For RAM(GB) coloumn"
   ]
  },
  {
   "cell_type": "code",
   "execution_count": 76,
   "id": "b50029fc",
   "metadata": {},
   "outputs": [
    {
     "name": "stdout",
     "output_type": "stream",
     "text": [
      "count    136.000000\n",
      "mean      12.191176\n",
      "std        5.186185\n",
      "min        4.000000\n",
      "25%        8.000000\n",
      "50%       12.000000\n",
      "75%       16.000000\n",
      "max       32.000000\n",
      "Name: RAM(GB), dtype: float64\n"
     ]
    }
   ],
   "source": [
    "print(n_df['RAM(GB)'].describe())"
   ]
  },
  {
   "cell_type": "markdown",
   "id": "4a889a03",
   "metadata": {},
   "source": [
    "The RAM(GB) column in our dataset contains 231 data points. The average (mean) RAM size is approximately 12.30 GB, with a standard deviation of 4.72 GB. The minimum RAM size in the dataset is 4 GB, while the maximum RAM size is 32 GB.\n",
    "\n",
    "The RAM(GB) statistical summary provides additional insights. The 25th percentile (Q1) is 8 GB, indicating that 25% of the RAM sizes fall below this value. The median (50th percentile or Q2) is 16 GB, representing the middle value in the dataset. The 75th percentile (Q3) is also 16 GB, indicating that 75% of the RAM sizes are below this value.\n",
    "\n",
    "Theese data provide us with a summary which help us understanding the RAM(GB) in our dataset."
   ]
  },
  {
   "cell_type": "markdown",
   "id": "48793d2e",
   "metadata": {},
   "source": []
  },
  {
   "cell_type": "markdown",
   "id": "b3bdf0b9",
   "metadata": {},
   "source": [
    "##### For SSD(GB) coloumn"
   ]
  },
  {
   "cell_type": "code",
   "execution_count": 77,
   "id": "f3d7f7ef",
   "metadata": {},
   "outputs": [
    {
     "name": "stdout",
     "output_type": "stream",
     "text": [
      "count     136.000000\n",
      "mean      543.699118\n",
      "std       231.660691\n",
      "min         2.000000\n",
      "25%       512.000000\n",
      "50%       512.000000\n",
      "75%       512.000000\n",
      "max      1000.000000\n",
      "Name: SSD(GB), dtype: float64\n"
     ]
    }
   ],
   "source": [
    "print(n_df['SSD(GB)'].describe())"
   ]
  },
  {
   "cell_type": "markdown",
   "id": "1d35d872",
   "metadata": {},
   "source": [
    "The SSD(GB) column in our dataset contains 231 data points. The average (mean) SSD capacity is approximately 534.68 GB, with a standard deviation of 191.99 GB. The minimum SSD capacity in the dataset is 2 GB, while the maximum SSD capacity is 1000 GB.\n",
    "\n",
    "The SSD(GB) statistical summary provides additional insights. The 25th percentile (Q1) is 512 GB, indicating that 25% of the SSD capacities fall below this value. The median (50th percentile or Q2) is also 512 GB, representing the middle value in the dataset. The 75th percentile (Q3) is also 512 GB, indicating that 75% of the SSD capacities are below this value.\n",
    "\n",
    "Theese data provide us with a summary which help us understanding the SSD(GB) in our dataset."
   ]
  },
  {
   "cell_type": "markdown",
   "id": "87552c37",
   "metadata": {},
   "source": [
    "##### For Display(cm) coloumn"
   ]
  },
  {
   "cell_type": "code",
   "execution_count": 78,
   "id": "30334235",
   "metadata": {},
   "outputs": [
    {
     "name": "stdout",
     "output_type": "stream",
     "text": [
      "count    136.000000\n",
      "mean      38.551544\n",
      "std        9.684858\n",
      "min        1.000000\n",
      "25%       35.560000\n",
      "50%       39.620000\n",
      "75%       39.620000\n",
      "max      100.630000\n",
      "Name: Display(cm), dtype: float64\n"
     ]
    }
   ],
   "source": [
    "print(n_df['Display(cm)'].describe())"
   ]
  },
  {
   "cell_type": "markdown",
   "id": "6aeaaeb4",
   "metadata": {},
   "source": [
    "The Display(cm) column in our dataset contains 231 data points. The average (mean) display size is approximately 38.47 cm, with a standard deviation of 7.54 cm. The minimum display size in the dataset is 1 cm, while the maximum display size is 100.63 cm.\n",
    "\n",
    "The Display(cm) statistical summary provides additional insights. The 25th percentile (Q1) is 35.56 cm, indicating that 25% of the display sizes fall below this value. The median (50th percentile or Q2) is 39.62 cm, representing the middle value in the dataset. The 75th percentile (Q3) is also 39.62 cm, indicating that 75% of the display sizes are below this value.\n",
    "\n",
    "Theese data provide us with a summary which help us understanding the Display(cm) in our dataset."
   ]
  },
  {
   "cell_type": "markdown",
   "id": "43828024",
   "metadata": {},
   "source": [
    "## Data preprocessing"
   ]
  },
  {
   "cell_type": "markdown",
   "id": "bf4e39e7",
   "metadata": {},
   "source": [
    "After undestanding and cleaning the data we will apply data preprocessing.\n",
    "Preprocessing involves transforming raw data into a format suitable for analysis or modeling. This includes encoding categorical variables, scaling numerical features to ensure uniformity and a lot . \n",
    "\n",
    "Effective preprocessing enhances the quality of data ."
   ]
  },
  {
   "cell_type": "markdown",
   "id": "cd14b3ca",
   "metadata": {},
   "source": [
    "### Discretization"
   ]
  },
  {
   "cell_type": "markdown",
   "id": "86bd536f",
   "metadata": {},
   "source": [
    "Discretization involves converting continuous numeric data into discrete intervals or bins. Grouping comparable values together simplifies complex data and makes analysis easier.\n",
    "\n",
    "We will apply discretization for 'product_rating' and 'new_price' :"
   ]
  },
  {
   "cell_type": "markdown",
   "id": "e6f73e1f",
   "metadata": {},
   "source": [
    "#### We will apply discretization for \"product_rating\" coloumn based on:\n",
    "- Greater than 4 will be Excellent. (4<product_rating)\n",
    "- 3.1 To 4 will be Good. (3<product_rating<=4)\n",
    "- 2.1 To 3 will be Meduim.(2<product_rating<=3)\n",
    "- 1.1 To 2 will be bad. (1<product_rating<=2)\n",
    "- Lower than or equal 1 will be very bad. (product_rating<=1)"
   ]
  },
  {
   "cell_type": "code",
   "execution_count": 79,
   "id": "70bd3981",
   "metadata": {},
   "outputs": [
    {
     "name": "stdout",
     "output_type": "stream",
     "text": [
      "0           Good\n",
      "1      Excellent\n",
      "2      Excellent\n",
      "3      Excellent\n",
      "4      Excellent\n",
      "         ...    \n",
      "213    Excellent\n",
      "215         Good\n",
      "216         Good\n",
      "217    Excellent\n",
      "222    Excellent\n",
      "Name: product_rating, Length: 136, dtype: object\n"
     ]
    }
   ],
   "source": [
    "#save the values of rating before discretization\n",
    "n_df['rating_without_dis'] = n_df['product_rating']\n",
    "\n",
    "#applying discretization\n",
    "def ratingdes(rating):\n",
    "    if rating > 4:\n",
    "        return 'Excellent'\n",
    "    elif 3 < rating <=4 :\n",
    "        return 'Good'\n",
    "    elif 2< rating <= 3:\n",
    "        return 'Meduim'\n",
    "    elif 1 < rating <= 2:\n",
    "        return 'bad'\n",
    "    else:\n",
    "        return 'very bad'\n",
    "    \n",
    "n_df['product_rating']=n_df['product_rating'].apply(ratingdes)\n",
    "print(n_df['product_rating'])"
   ]
  },
  {
   "cell_type": "markdown",
   "id": "75be4677",
   "metadata": {},
   "source": [
    "#### We will apply discretization for \"new_price\" coloumn based on:\n",
    "- Greater than 160000 will be Very Expensive. (160000<new_price)\n",
    "- 120000 To 160000 will be Expensive. (120000<new_price<=160000)\n",
    "- 80000 To 120000 will be Moderate.(80000<new_price<=120000)\n",
    "- 40000 To 80000  will be low. (40000<new_price<=80000)\n",
    "- Lower than or equal 40000 will be very low. (new_price<=40000)"
   ]
  },
  {
   "cell_type": "code",
   "execution_count": 80,
   "id": "89f4af21",
   "metadata": {},
   "outputs": [
    {
     "name": "stdout",
     "output_type": "stream",
     "text": [
      "0       very low\n",
      "1       very low\n",
      "2       Moderate\n",
      "3       very low\n",
      "4            low\n",
      "         ...    \n",
      "213          low\n",
      "215          low\n",
      "216     Moderate\n",
      "217    Expensive\n",
      "222          low\n",
      "Name: new_price, Length: 136, dtype: object\n"
     ]
    }
   ],
   "source": [
    "def pricedes(price):\n",
    "    if price > 160000:\n",
    "        return 'Very Expensive'\n",
    "    elif 120000 < price <=160000 :\n",
    "        return 'Expensive'\n",
    "    elif 80000< price <=120000:\n",
    "        return 'Moderate'\n",
    "    elif 40000 < price <= 80000:\n",
    "        return 'low'\n",
    "    else:\n",
    "        return 'very low'\n",
    "    \n",
    "n_df['new_price']=n_df['new_price'].apply(pricedes)\n",
    "print(n_df['new_price'])"
   ]
  },
  {
   "cell_type": "markdown",
   "id": "7fd63b86",
   "metadata": {},
   "source": [
    "### VISUALIZATION"
   ]
  },
  {
   "cell_type": "markdown",
   "id": "7a531168",
   "metadata": {},
   "source": [
    "In this section, we will display a graphical representations of our dataset."
   ]
  },
  {
   "cell_type": "markdown",
   "id": "00f605a1",
   "metadata": {},
   "source": [
    "#### Heatmaps:\n",
    "We will represent the relationship between the product_rating and new_price by visual the heatmap :"
   ]
  },
  {
   "cell_type": "code",
   "execution_count": 81,
   "id": "300ad46a",
   "metadata": {},
   "outputs": [
    {
     "data": {
      "image/png": "[encoded data removed]",
      "text/plain": [
       "<Figure size 1000x800 with 2 Axes>"
      ]
     },
     "metadata": {},
     "output_type": "display_data"
    }
   ],
   "source": [
    "rating = ((np.asarray(n_df['product_rating'])).reshape(136 ,1))\n",
    "price = ((np.asarray(n_df['new_price'])).reshape(136 ,1))\n",
    "df = pd.DataFrame({'Rating': rating.flatten(), 'Price': price.flatten()})\n",
    "pivot_table = df.pivot_table(index='Price', columns='Rating', aggfunc=len, fill_value=0)\n",
    "plt.figure(figsize=(10, 8))\n",
    "sns.heatmap(pivot_table, cmap='coolwarm', annot=True, fmt='d')\n",
    "plt.xlabel('Rating')\n",
    "plt.ylabel('Price')\n",
    "plt.title('Rating and Price Heatmap')\n",
    "plt.show()"
   ]
  },
  {
   "cell_type": "markdown",
   "id": "f6e99a8e",
   "metadata": {},
   "source": [
    "As depicted in the figure, it's evident that the highest ratings correlate with lower prices, which aligns with consumer behavior. Price often dictates purchasing decisions, influencing consumers to favor products with lower prices. This logical relationship underscores the significance of pricing strategy in driving consumer preferences and product selection."
   ]
  },
  {
   "cell_type": "code",
   "execution_count": 82,
   "id": "c59ff0af",
   "metadata": {},
   "outputs": [
    {
     "data": {
      "image/png": "[encoded data removed]",
      "text/plain": [
       "<Figure size 1000x800 with 2 Axes>"
      ]
     },
     "metadata": {},
     "output_type": "display_data"
    }
   ],
   "source": [
    "rating = ((np.asarray(n_df['product_rating'])).reshape(136,1))\n",
    "OS = ((np.asarray(n_df['Operating_System'])).reshape(136,1))\n",
    "df = pd.DataFrame({'Rating': rating.flatten(), 'OS': OS.flatten()})\n",
    "pivot_table = df.pivot_table(index='OS', columns='Rating', aggfunc=len, fill_value=0)\n",
    "plt.figure(figsize=(10, 8))\n",
    "sns.heatmap(pivot_table, cmap='coolwarm', annot=True, fmt='d')\n",
    "plt.xlabel('Rating')\n",
    "plt.ylabel('OS')\n",
    "plt.title('Rating and OS Heatmap')\n",
    "plt.show()"
   ]
  },
  {
   "cell_type": "markdown",
   "id": "a68143c4",
   "metadata": {},
   "source": [
    "Based on the figure provided, Windows 11 OS has received the highest rating among the operating systems depicted. This aligns with the real-world observation that many people prefer using Windows OS in their daily lives."
   ]
  },
  {
   "cell_type": "code",
   "execution_count": 83,
   "id": "71d0bb85",
   "metadata": {},
   "outputs": [
    {
     "data": {
      "image/png": "[encoded data removed]",
      "text/plain": [
       "<Figure size 800x600 with 2 Axes>"
      ]
     },
     "metadata": {},
     "output_type": "display_data"
    }
   ],
   "source": [
    "selected_columns = ['rating_without_dis', 'RAM(GB)', 'SSD(GB)', 'Display(cm)']\n",
    "df_selected = n_df[selected_columns]\n",
    "corr_matrix = df_selected.corr()\n",
    "plt.figure(figsize=(8, 6))\n",
    "sns.heatmap(corr_matrix, annot=True, cmap='coolwarm', vmin=-1, vmax=1)\n",
    "plt.title('Correlation between computer features and Rating Heatmap')\n",
    "plt.show()"
   ]
  },
  {
   "cell_type": "markdown",
   "id": "215f9eb4",
   "metadata": {},
   "source": [
    "Based on the provided heatmap, it is evident that the feature most valued by users when purchasing a computer is RAM. RAM is recognized as a crucial and significant feature in computer systems. Additionally the relation between rating and all feature are positive relation."
   ]
  },
  {
   "cell_type": "markdown",
   "id": "371c0eb3",
   "metadata": {},
   "source": [
    "#### Pie charts \n",
    "We apply pie charts for new_price and product_rating coloumns."
   ]
  },
  {
   "cell_type": "code",
   "execution_count": 84,
   "id": "34059b4f",
   "metadata": {},
   "outputs": [
    {
     "data": {
      "image/png": "[encoded data removed]",
      "text/plain": [
       "<Figure size 640x480 with 1 Axes>"
      ]
     },
     "metadata": {},
     "output_type": "display_data"
    }
   ],
   "source": [
    "new_price_counts = n_df['new_price'].value_counts()\n",
    "price_categories = new_price_counts.index.tolist()\n",
    "category_counts = new_price_counts.values.tolist()\n",
    "plt.pie(category_counts, labels=price_categories, autopct='%1.1f%%', startangle=90)\n",
    "plt.title('Price')\n",
    "plt.axis('equal')\n",
    "plt.show()"
   ]
  },
  {
   "cell_type": "markdown",
   "id": "3ed3d9a6",
   "metadata": {},
   "source": [
    "The price pie chart results indicate that the majority of computers price fall into the \"low\" price category, accounting for 44.1% of the total. The \"very low\" category represents 30.1% of the items, while the \"moderate\" category comprises 17.6%. The \"very expensive\" and \"expensive\" categories make up smaller portions, with 4.4% and 3.7% respectively."
   ]
  },
  {
   "cell_type": "code",
   "execution_count": 85,
   "id": "e56560f3",
   "metadata": {},
   "outputs": [
    {
     "data": {
      "image/png": "[encoded data removed]",
      "text/plain": [
       "<Figure size 640x480 with 1 Axes>"
      ]
     },
     "metadata": {},
     "output_type": "display_data"
    }
   ],
   "source": [
    "Rating_counts = n_df['product_rating'].value_counts()\n",
    "Rating_categories = Rating_counts.index.tolist()\n",
    "category_counts = Rating_counts.values.tolist()\n",
    "plt.pie(category_counts, labels=Rating_categories, autopct='%1.1f%%', startangle=90)\n",
    "plt.title('Rating')\n",
    "plt.axis('equal')\n",
    "plt.show()"
   ]
  },
  {
   "cell_type": "markdown",
   "id": "55d81062",
   "metadata": {},
   "source": [
    "In the rating pie chart results, the majority of the ratings, 69.1%, are classified as \"excellent,\" indicating a high level of quality. The \"good\" category makes up 25.7% of the ratings, representing a positive evaluation. The \"medium\" category accounts for 4.4% of the ratings, indicating an average or moderate level of satisfaction. The smallest portion is the \"bad\" category, which comprises only 0.7% of the ratings, suggesting a low level of satisfaction or quality."
   ]
  },
  {
   "cell_type": "code",
   "execution_count": 86,
   "id": "0472af32",
   "metadata": {},
   "outputs": [
    {
     "data": {
      "image/png": "[encoded data removed]",
      "text/plain": [
       "<Figure size 800x600 with 1 Axes>"
      ]
     },
     "metadata": {},
     "output_type": "display_data"
    }
   ],
   "source": [
    "ram_gb_counts = n_df['RAM(GB)'].value_counts()\n",
    "\n",
    "# Create a bar chart\n",
    "plt.figure(figsize=(8, 6))\n",
    "ram_gb_counts.plot(kind='bar')\n",
    "\n",
    "# Set labels and title\n",
    "plt.xlabel('RAM(GB)')\n",
    "plt.ylabel('Frequency')\n",
    "plt.title('Frequency of RAM(GB)')\n",
    "\n",
    "# Display the plot\n",
    "plt.show()"
   ]
  },
  {
   "cell_type": "markdown",
   "id": "490034be",
   "metadata": {},
   "source": [
    "As we notice in the previous heatmap which has title \"Correlation between computer features and Rating Heatmap\" it shows a strong correlation between RAM and rating where the value 16.0 in RAM has the highest frequency."
   ]
  },
  {
   "cell_type": "markdown",
   "id": "8dc7cfb2",
   "metadata": {},
   "source": [
    "### Save the cleaned data in CSV file"
   ]
  },
  {
   "cell_type": "code",
   "execution_count": 89,
   "id": "47778502",
   "metadata": {},
   "outputs": [],
   "source": [
    "n_df.to_csv(\"cleanded_product_data.csv\", index=False)"
   ]
  }
 ],
 "metadata": {
  "kernelspec": {
   "display_name": "Python 3 (ipykernel)",
   "language": "python",
   "name": "python3"
  },
  "language_info": {
   "codemirror_mode": {
    "name": "ipython",
    "version": 3
   },
   "file_extension": ".py",
   "mimetype": "text/x-python",
   "name": "python",
   "nbconvert_exporter": "python",
   "pygments_lexer": "ipython3",
   "version": "3.11.4"
  }
 },
 "nbformat": 4,
 "nbformat_minor": 5
}
